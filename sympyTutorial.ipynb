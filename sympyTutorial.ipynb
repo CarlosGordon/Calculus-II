{
  "nbformat": 4,
  "nbformat_minor": 0,
  "metadata": {
    "colab": {
      "provenance": [],
      "include_colab_link": true
    },
    "kernelspec": {
      "name": "python3",
      "display_name": "Python 3"
    },
    "language_info": {
      "name": "python"
    }
  },
  "cells": [
    {
      "cell_type": "markdown",
      "metadata": {
        "id": "view-in-github",
        "colab_type": "text"
      },
      "source": [
        "<a href=\"https://colab.research.google.com/github/CarlosGordon/Calculus-II/blob/main/sympyTutorial.ipynb\" target=\"_parent\"><img src=\"https://colab.research.google.com/assets/colab-badge.svg\" alt=\"Open In Colab\"/></a>"
      ]
    },
    {
      "cell_type": "markdown",
      "source": [
        "# **Introduction to sympy**"
      ],
      "metadata": {
        "id": "WBUmGaZbJsRm"
      }
    },
    {
      "cell_type": "code",
      "execution_count": 4,
      "metadata": {
        "id": "M5ubsS9SSFaW"
      },
      "outputs": [],
      "source": [
        "import sympy as smp\n",
        "import numpy as np\n",
        "import matplotlib.pyplot as plt"
      ]
    },
    {
      "cell_type": "markdown",
      "source": [
        "Symbols can be defined the following way"
      ],
      "metadata": {
        "id": "zMhEHj49KXyJ"
      }
    },
    {
      "cell_type": "code",
      "source": [
        "x,y,z= smp.symbols('x y z')"
      ],
      "metadata": {
        "id": "wEdDrbTHJD1U"
      },
      "execution_count": 5,
      "outputs": []
    },
    {
      "cell_type": "code",
      "source": [
        "f=y**3-z"
      ],
      "metadata": {
        "id": "7MXpu5G_JOzE"
      },
      "execution_count": 6,
      "outputs": []
    },
    {
      "cell_type": "code",
      "source": [
        "f"
      ],
      "metadata": {
        "id": "vEfPDXSPJeGs",
        "outputId": "0167c06e-c725-4247-9a69-450a7ac4c240",
        "colab": {
          "base_uri": "https://localhost:8080/",
          "height": 38
        }
      },
      "execution_count": 7,
      "outputs": [
        {
          "output_type": "execute_result",
          "data": {
            "text/plain": [
              "y**3 - z"
            ],
            "text/latex": "$\\displaystyle y^{3} - z$"
          },
          "metadata": {},
          "execution_count": 7
        }
      ]
    },
    {
      "cell_type": "code",
      "source": [
        "f.subs(y,2)"
      ],
      "metadata": {
        "id": "nGWqueQFJgXD",
        "outputId": "86f4c748-139c-434c-dd2d-773240a8bafb",
        "colab": {
          "base_uri": "https://localhost:8080/",
          "height": 38
        }
      },
      "execution_count": 8,
      "outputs": [
        {
          "output_type": "execute_result",
          "data": {
            "text/plain": [
              "8 - z"
            ],
            "text/latex": "$\\displaystyle 8 - z$"
          },
          "metadata": {},
          "execution_count": 8
        }
      ]
    },
    {
      "cell_type": "markdown",
      "source": [
        "We can also create new expresions from previous ones"
      ],
      "metadata": {
        "id": "tdZNW3S5LNPp"
      }
    },
    {
      "cell_type": "code",
      "source": [
        "g=f**2"
      ],
      "metadata": {
        "colab": {
          "base_uri": "https://localhost:8080/",
          "height": 41
        },
        "id": "S3D6pjRxLJtT",
        "outputId": "731a752f-175c-4705-a7ed-4699fe103270"
      },
      "execution_count": 10,
      "outputs": [
        {
          "output_type": "execute_result",
          "data": {
            "text/plain": [
              "(y**3 - z)**2"
            ],
            "text/latex": "$\\displaystyle \\left(y^{3} - z\\right)^{2}$"
          },
          "metadata": {},
          "execution_count": 10
        }
      ]
    },
    {
      "cell_type": "markdown",
      "source": [
        "There are built in functions in sympy"
      ],
      "metadata": {
        "id": "K9OPiqAiL2wF"
      }
    },
    {
      "cell_type": "code",
      "source": [
        "smp.sin(y)"
      ],
      "metadata": {
        "id": "SftZ-KOkLzzx",
        "outputId": "0ce5104b-f0a9-41fc-ef2b-b3e7e1491249",
        "colab": {
          "base_uri": "https://localhost:8080/",
          "height": 38
        }
      },
      "execution_count": 11,
      "outputs": [
        {
          "output_type": "execute_result",
          "data": {
            "text/plain": [
              "sin(y)"
            ],
            "text/latex": "$\\displaystyle \\sin{\\left(y \\right)}$"
          },
          "metadata": {},
          "execution_count": 11
        }
      ]
    }
  ]
}