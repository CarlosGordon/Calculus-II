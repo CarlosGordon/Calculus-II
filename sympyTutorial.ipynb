{
  "nbformat": 4,
  "nbformat_minor": 0,
  "metadata": {
    "colab": {
      "provenance": [],
      "include_colab_link": true
    },
    "kernelspec": {
      "name": "python3",
      "display_name": "Python 3"
    },
    "language_info": {
      "name": "python"
    }
  },
  "cells": [
    {
      "cell_type": "markdown",
      "metadata": {
        "id": "view-in-github",
        "colab_type": "text"
      },
      "source": [
        "<a href=\"https://colab.research.google.com/github/CarlosGordon/Calculus-II/blob/main/sympyTutorial.ipynb\" target=\"_parent\"><img src=\"https://colab.research.google.com/assets/colab-badge.svg\" alt=\"Open In Colab\"/></a>"
      ]
    },
    {
      "cell_type": "markdown",
      "source": [
        "# **Introduction to sympy**"
      ],
      "metadata": {
        "id": "WBUmGaZbJsRm"
      }
    },
    {
      "cell_type": "code",
      "execution_count": 3,
      "metadata": {
        "id": "M5ubsS9SSFaW"
      },
      "outputs": [],
      "source": [
        "import sympy as smp\n",
        "import numpy as np\n",
        "import matplotlib.pyplot as plt"
      ]
    },
    {
      "cell_type": "markdown",
      "source": [
        "Symbols can be defined the following way"
      ],
      "metadata": {
        "id": "zMhEHj49KXyJ"
      }
    },
    {
      "cell_type": "code",
      "source": [
        "x,y,z= smp.symbols('x y z')"
      ],
      "metadata": {
        "id": "wEdDrbTHJD1U"
      },
      "execution_count": 4,
      "outputs": []
    },
    {
      "cell_type": "code",
      "source": [
        "f=y**3-z"
      ],
      "metadata": {
        "id": "7MXpu5G_JOzE"
      },
      "execution_count": 5,
      "outputs": []
    },
    {
      "cell_type": "markdown",
      "source": [],
      "metadata": {
        "id": "oz-fRLhA2H3y"
      }
    },
    {
      "cell_type": "code",
      "source": [
        "f"
      ],
      "metadata": {
        "id": "vEfPDXSPJeGs",
        "outputId": "fc140089-9ee3-4fe9-e37b-b6583b2c6eb7",
        "colab": {
          "base_uri": "https://localhost:8080/",
          "height": 38
        }
      },
      "execution_count": 6,
      "outputs": [
        {
          "output_type": "execute_result",
          "data": {
            "text/plain": [
              "y**3 - z"
            ],
            "text/latex": "$\\displaystyle y^{3} - z$"
          },
          "metadata": {},
          "execution_count": 6
        }
      ]
    },
    {
      "cell_type": "code",
      "source": [
        "f.subs(y,2)"
      ],
      "metadata": {
        "id": "nGWqueQFJgXD",
        "outputId": "3eab556f-c49f-42c4-bc79-2554a3a87454",
        "colab": {
          "base_uri": "https://localhost:8080/",
          "height": 38
        }
      },
      "execution_count": 7,
      "outputs": [
        {
          "output_type": "execute_result",
          "data": {
            "text/plain": [
              "8 - z"
            ],
            "text/latex": "$\\displaystyle 8 - z$"
          },
          "metadata": {},
          "execution_count": 7
        }
      ]
    },
    {
      "cell_type": "markdown",
      "source": [
        "We can also create new expresions from previous ones"
      ],
      "metadata": {
        "id": "tdZNW3S5LNPp"
      }
    },
    {
      "cell_type": "code",
      "source": [
        "g=f**2"
      ],
      "metadata": {
        "id": "S3D6pjRxLJtT"
      },
      "execution_count": 8,
      "outputs": []
    },
    {
      "cell_type": "markdown",
      "source": [
        "There are built in functions in sympy"
      ],
      "metadata": {
        "id": "K9OPiqAiL2wF"
      }
    },
    {
      "cell_type": "code",
      "source": [
        "smp.sin(y)"
      ],
      "metadata": {
        "id": "SftZ-KOkLzzx",
        "outputId": "70537244-7a24-43a0-cbbf-3dc376f37b8e",
        "colab": {
          "base_uri": "https://localhost:8080/",
          "height": 38
        }
      },
      "execution_count": 9,
      "outputs": [
        {
          "output_type": "execute_result",
          "data": {
            "text/plain": [
              "sin(y)"
            ],
            "text/latex": "$\\displaystyle \\sin{\\left(y \\right)}$"
          },
          "metadata": {},
          "execution_count": 9
        }
      ]
    },
    {
      "cell_type": "code",
      "source": [
        "smp.exp(x)"
      ],
      "metadata": {
        "colab": {
          "base_uri": "https://localhost:8080/",
          "height": 38
        },
        "id": "GFGl6_88yVcp",
        "outputId": "f86ad779-0466-4d20-81b3-1ac6efa73f67"
      },
      "execution_count": 10,
      "outputs": [
        {
          "output_type": "execute_result",
          "data": {
            "text/plain": [
              "exp(x)"
            ],
            "text/latex": "$\\displaystyle e^{x}$"
          },
          "metadata": {},
          "execution_count": 10
        }
      ]
    },
    {
      "cell_type": "markdown",
      "source": [
        "In logs, when **not using** natural log (base e) its going to give the log as a **quotient** of two natural logs."
      ],
      "metadata": {
        "id": "6ScZhHVjzHtJ"
      }
    },
    {
      "cell_type": "code",
      "source": [
        "smp.log(x,5) # log base 5 of x"
      ],
      "metadata": {
        "colab": {
          "base_uri": "https://localhost:8080/",
          "height": 57
        },
        "id": "8f0MLBtVyn-r",
        "outputId": "d13e0f64-a8da-47a5-f981-8db44e439478"
      },
      "execution_count": 11,
      "outputs": [
        {
          "output_type": "execute_result",
          "data": {
            "text/plain": [
              "log(x)/log(5)"
            ],
            "text/latex": "$\\displaystyle \\frac{\\log{\\left(x \\right)}}{\\log{\\left(5 \\right)}}$"
          },
          "metadata": {},
          "execution_count": 11
        }
      ]
    },
    {
      "cell_type": "markdown",
      "source": [
        "Sometimes we want fractions to be rationals and not real numbers. If we put 3/2. It will convert it to 1.5 uless we use smp.Rational(3,2)"
      ],
      "metadata": {
        "id": "pLQo_RSy2ecj"
      }
    },
    {
      "cell_type": "code",
      "source": [
        "x**(3/2)\n"
      ],
      "metadata": {
        "colab": {
          "base_uri": "https://localhost:8080/",
          "height": 38
        },
        "id": "BF3zd-Fs2eHp",
        "outputId": "9ab7c28e-f5af-4ee6-f50c-49b36a8b42fc"
      },
      "execution_count": 18,
      "outputs": [
        {
          "output_type": "execute_result",
          "data": {
            "text/plain": [
              "x**1.5"
            ],
            "text/latex": "$\\displaystyle x^{1.5}$"
          },
          "metadata": {},
          "execution_count": 18
        }
      ]
    },
    {
      "cell_type": "code",
      "source": [
        "y**(smp.Rational(3,2))"
      ],
      "metadata": {
        "colab": {
          "base_uri": "https://localhost:8080/",
          "height": 40
        },
        "id": "mYt9r_wH26pT",
        "outputId": "5083bf00-ac31-413c-f0df-9bee5910378a"
      },
      "execution_count": 19,
      "outputs": [
        {
          "output_type": "execute_result",
          "data": {
            "text/plain": [
              "y**(3/2)"
            ],
            "text/latex": "$\\displaystyle y^{\\frac{3}{2}}$"
          },
          "metadata": {},
          "execution_count": 19
        }
      ]
    },
    {
      "cell_type": "markdown",
      "source": [
        "This will be usefull for numerical integration."
      ],
      "metadata": {
        "id": "lu4iWxP729zl"
      }
    },
    {
      "cell_type": "markdown",
      "source": [
        "# Limits\n"
      ],
      "metadata": {
        "id": "Uw2eDZD-3HiU"
      }
    },
    {
      "cell_type": "code",
      "source": [],
      "metadata": {
        "id": "HKj8n47w3MgZ"
      },
      "execution_count": null,
      "outputs": []
    }
  ]
}