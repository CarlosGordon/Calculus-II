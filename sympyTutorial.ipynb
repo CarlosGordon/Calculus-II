{
  "nbformat": 4,
  "nbformat_minor": 0,
  "metadata": {
    "colab": {
      "provenance": [],
      "include_colab_link": true
    },
    "kernelspec": {
      "name": "python3",
      "display_name": "Python 3"
    },
    "language_info": {
      "name": "python"
    }
  },
  "cells": [
    {
      "cell_type": "markdown",
      "metadata": {
        "id": "view-in-github",
        "colab_type": "text"
      },
      "source": [
        "<a href=\"https://colab.research.google.com/github/CarlosGordon/Calculus-II/blob/main/sympyTutorial.ipynb\" target=\"_parent\"><img src=\"https://colab.research.google.com/assets/colab-badge.svg\" alt=\"Open In Colab\"/></a>"
      ]
    },
    {
      "cell_type": "markdown",
      "source": [
        "# **Introduction to sympy**"
      ],
      "metadata": {
        "id": "WBUmGaZbJsRm"
      }
    },
    {
      "cell_type": "code",
      "execution_count": 2,
      "metadata": {
        "id": "M5ubsS9SSFaW"
      },
      "outputs": [],
      "source": [
        "import sympy as smp\n",
        "import numpy as np\n",
        "import matplotlib.pyplot as plt"
      ]
    },
    {
      "cell_type": "markdown",
      "source": [
        "Symbols can be defined the following way"
      ],
      "metadata": {
        "id": "zMhEHj49KXyJ"
      }
    },
    {
      "cell_type": "code",
      "source": [
        "x,y,z= smp.symbols('x y z')"
      ],
      "metadata": {
        "id": "wEdDrbTHJD1U"
      },
      "execution_count": 3,
      "outputs": []
    },
    {
      "cell_type": "code",
      "source": [
        "f=y**3-z"
      ],
      "metadata": {
        "id": "7MXpu5G_JOzE"
      },
      "execution_count": null,
      "outputs": []
    },
    {
      "cell_type": "markdown",
      "source": [],
      "metadata": {
        "id": "oz-fRLhA2H3y"
      }
    },
    {
      "cell_type": "code",
      "source": [
        "f"
      ],
      "metadata": {
        "id": "vEfPDXSPJeGs",
        "outputId": "fc140089-9ee3-4fe9-e37b-b6583b2c6eb7",
        "colab": {
          "base_uri": "https://localhost:8080/",
          "height": 38
        }
      },
      "execution_count": null,
      "outputs": [
        {
          "output_type": "execute_result",
          "data": {
            "text/plain": [
              "y**3 - z"
            ],
            "text/latex": "$\\displaystyle y^{3} - z$"
          },
          "metadata": {},
          "execution_count": 6
        }
      ]
    },
    {
      "cell_type": "code",
      "source": [
        "f.subs(y,2)"
      ],
      "metadata": {
        "id": "nGWqueQFJgXD",
        "outputId": "3eab556f-c49f-42c4-bc79-2554a3a87454",
        "colab": {
          "base_uri": "https://localhost:8080/",
          "height": 38
        }
      },
      "execution_count": null,
      "outputs": [
        {
          "output_type": "execute_result",
          "data": {
            "text/plain": [
              "8 - z"
            ],
            "text/latex": "$\\displaystyle 8 - z$"
          },
          "metadata": {},
          "execution_count": 7
        }
      ]
    },
    {
      "cell_type": "markdown",
      "source": [
        "We can also create new expresions from previous ones"
      ],
      "metadata": {
        "id": "tdZNW3S5LNPp"
      }
    },
    {
      "cell_type": "code",
      "source": [
        "g=f**2"
      ],
      "metadata": {
        "id": "S3D6pjRxLJtT"
      },
      "execution_count": null,
      "outputs": []
    },
    {
      "cell_type": "markdown",
      "source": [
        "There are built in functions in sympy. Type dir(smp) to check out."
      ],
      "metadata": {
        "id": "K9OPiqAiL2wF"
      }
    },
    {
      "cell_type": "code",
      "source": [
        "dir(smp)"
      ],
      "metadata": {
        "collapsed": true,
        "id": "lAQv9JbFuiPG"
      },
      "execution_count": null,
      "outputs": []
    },
    {
      "cell_type": "code",
      "source": [
        "smp.sin(y)"
      ],
      "metadata": {
        "id": "SftZ-KOkLzzx",
        "outputId": "70537244-7a24-43a0-cbbf-3dc376f37b8e",
        "colab": {
          "base_uri": "https://localhost:8080/",
          "height": 38
        }
      },
      "execution_count": null,
      "outputs": [
        {
          "output_type": "execute_result",
          "data": {
            "text/plain": [
              "sin(y)"
            ],
            "text/latex": "$\\displaystyle \\sin{\\left(y \\right)}$"
          },
          "metadata": {},
          "execution_count": 9
        }
      ]
    },
    {
      "cell_type": "code",
      "source": [
        "smp.exp(x)"
      ],
      "metadata": {
        "colab": {
          "base_uri": "https://localhost:8080/",
          "height": 38
        },
        "id": "GFGl6_88yVcp",
        "outputId": "f86ad779-0466-4d20-81b3-1ac6efa73f67"
      },
      "execution_count": null,
      "outputs": [
        {
          "output_type": "execute_result",
          "data": {
            "text/plain": [
              "exp(x)"
            ],
            "text/latex": "$\\displaystyle e^{x}$"
          },
          "metadata": {},
          "execution_count": 10
        }
      ]
    },
    {
      "cell_type": "markdown",
      "source": [
        "In logs, when **not using** natural log (base e) its going to give the log as a **quotient** of two natural logs."
      ],
      "metadata": {
        "id": "6ScZhHVjzHtJ"
      }
    },
    {
      "cell_type": "code",
      "source": [
        "smp.log(x,5) # log base 5 of x"
      ],
      "metadata": {
        "colab": {
          "base_uri": "https://localhost:8080/",
          "height": 57
        },
        "id": "8f0MLBtVyn-r",
        "outputId": "d13e0f64-a8da-47a5-f981-8db44e439478"
      },
      "execution_count": null,
      "outputs": [
        {
          "output_type": "execute_result",
          "data": {
            "text/plain": [
              "log(x)/log(5)"
            ],
            "text/latex": "$\\displaystyle \\frac{\\log{\\left(x \\right)}}{\\log{\\left(5 \\right)}}$"
          },
          "metadata": {},
          "execution_count": 11
        }
      ]
    },
    {
      "cell_type": "markdown",
      "source": [
        "Sometimes we want fractions to be rationals and not real numbers. If we put 3/2. It will convert it to 1.5 uless we use smp.Rational(3,2)"
      ],
      "metadata": {
        "id": "pLQo_RSy2ecj"
      }
    },
    {
      "cell_type": "code",
      "source": [
        "x**(3/2)\n"
      ],
      "metadata": {
        "colab": {
          "base_uri": "https://localhost:8080/",
          "height": 38
        },
        "id": "BF3zd-Fs2eHp",
        "outputId": "9ab7c28e-f5af-4ee6-f50c-49b36a8b42fc"
      },
      "execution_count": null,
      "outputs": [
        {
          "output_type": "execute_result",
          "data": {
            "text/plain": [
              "x**1.5"
            ],
            "text/latex": "$\\displaystyle x^{1.5}$"
          },
          "metadata": {},
          "execution_count": 18
        }
      ]
    },
    {
      "cell_type": "code",
      "source": [
        "y**(smp.Rational(3,2))"
      ],
      "metadata": {
        "colab": {
          "base_uri": "https://localhost:8080/",
          "height": 40
        },
        "id": "mYt9r_wH26pT",
        "outputId": "5083bf00-ac31-413c-f0df-9bee5910378a"
      },
      "execution_count": null,
      "outputs": [
        {
          "output_type": "execute_result",
          "data": {
            "text/plain": [
              "y**(3/2)"
            ],
            "text/latex": "$\\displaystyle y^{\\frac{3}{2}}$"
          },
          "metadata": {},
          "execution_count": 19
        }
      ]
    },
    {
      "cell_type": "markdown",
      "source": [
        "This will be usefull for numerical integration."
      ],
      "metadata": {
        "id": "lu4iWxP729zl"
      }
    },
    {
      "cell_type": "markdown",
      "source": [
        "# Limits\n"
      ],
      "metadata": {
        "id": "Uw2eDZD-3HiU"
      }
    },
    {
      "cell_type": "markdown",
      "source": [
        "$$\\lim_{x \\to \\pi} \\sin(x/2+ \\sin(x))$$"
      ],
      "metadata": {
        "id": "WEAfO7fVvRqJ"
      }
    },
    {
      "cell_type": "code",
      "source": [
        "smp.limit(smp.sin(x/2 + smp.sin(x)),x,smp.pi)"
      ],
      "metadata": {
        "id": "HKj8n47w3MgZ",
        "colab": {
          "base_uri": "https://localhost:8080/",
          "height": 37
        },
        "outputId": "b0af5393-cdc9-45d4-f721-8a1f819753f6"
      },
      "execution_count": 6,
      "outputs": [
        {
          "output_type": "execute_result",
          "data": {
            "text/plain": [
              "1"
            ],
            "text/latex": "$\\displaystyle 1$"
          },
          "metadata": {},
          "execution_count": 6
        }
      ]
    },
    {
      "cell_type": "markdown",
      "source": [
        "$$ \\lim_{x \\to 0^+} \\frac{2e^{1/x}}{e^{1/x}+1} $$"
      ],
      "metadata": {
        "id": "Aw4huRk7z2dP"
      }
    },
    {
      "cell_type": "code",
      "source": [
        "smp.limit(2*smp.exp(1/x)/(smp.exp(1/x)+1),x,0, dir=\"+\")"
      ],
      "metadata": {
        "colab": {
          "base_uri": "https://localhost:8080/",
          "height": 37
        },
        "id": "XuVL2qIBz1T0",
        "outputId": "30947348-2b90-4de3-cea6-afd7cbeb0770"
      },
      "execution_count": 9,
      "outputs": [
        {
          "output_type": "execute_result",
          "data": {
            "text/plain": [
              "2"
            ],
            "text/latex": "$\\displaystyle 2$"
          },
          "metadata": {},
          "execution_count": 9
        }
      ]
    },
    {
      "cell_type": "markdown",
      "source": [
        "$$ \\lim_{x \\to \\infty} \\frac{\\cos(x)-1}{x} $$"
      ],
      "metadata": {
        "id": "h27fxt0O0y9i"
      }
    },
    {
      "cell_type": "code",
      "source": [
        "smp.limit(((smp.cos(x)-1)/x),x,smp.oo)"
      ],
      "metadata": {
        "colab": {
          "base_uri": "https://localhost:8080/",
          "height": 37
        },
        "id": "VOtbICuH00uO",
        "outputId": "ad971a15-f234-4eca-f813-87212f4cda86"
      },
      "execution_count": 10,
      "outputs": [
        {
          "output_type": "execute_result",
          "data": {
            "text/plain": [
              "0"
            ],
            "text/latex": "$\\displaystyle 0$"
          },
          "metadata": {},
          "execution_count": 10
        }
      ]
    },
    {
      "cell_type": "markdown",
      "source": [
        "# Derivatives"
      ],
      "metadata": {
        "id": "eSHQMNRR4-sx"
      }
    },
    {
      "cell_type": "markdown",
      "source": [
        "$$ \\frac{d}{dx} \\left( \\frac{1+\\sin x}{1 - \\cos x} \\right)^2 $$"
      ],
      "metadata": {
        "id": "KueRZXBb5kUc"
      }
    },
    {
      "cell_type": "code",
      "source": [
        "smp.diff(((1+smp.sin(x))/(1-smp.cos(x)))**2,x)\n"
      ],
      "metadata": {
        "colab": {
          "base_uri": "https://localhost:8080/",
          "height": 63
        },
        "id": "f5XHd1GE5j7-",
        "outputId": "ad034e34-727f-4373-94c1-bfca8a5056ce"
      },
      "execution_count": 7,
      "outputs": [
        {
          "output_type": "execute_result",
          "data": {
            "text/plain": [
              "2*(sin(x) + 1)*cos(x)/(1 - cos(x))**2 - 2*(sin(x) + 1)**2*sin(x)/(1 - cos(x))**3"
            ],
            "text/latex": "$\\displaystyle \\frac{2 \\left(\\sin{\\left(x \\right)} + 1\\right) \\cos{\\left(x \\right)}}{\\left(1 - \\cos{\\left(x \\right)}\\right)^{2}} - \\frac{2 \\left(\\sin{\\left(x \\right)} + 1\\right)^{2} \\sin{\\left(x \\right)}}{\\left(1 - \\cos{\\left(x \\right)}\\right)^{3}}$"
          },
          "metadata": {},
          "execution_count": 7
        }
      ]
    },
    {
      "cell_type": "markdown",
      "source": [
        "$$ \\frac{d}{dx} (\\log_5 (x))^{x/2}$$"
      ],
      "metadata": {
        "id": "vKNa_1q25lrf"
      }
    },
    {
      "cell_type": "code",
      "source": [
        "smp.diff((smp.log(x,5))**(x/2),x)"
      ],
      "metadata": {
        "colab": {
          "base_uri": "https://localhost:8080/",
          "height": 80
        },
        "id": "IYsMpoyZ5Czc",
        "outputId": "03dd51c1-6a9e-4952-fe26-9d29f203ba7c"
      },
      "execution_count": 8,
      "outputs": [
        {
          "output_type": "execute_result",
          "data": {
            "text/plain": [
              "(log(x)/log(5))**(x/2)*(log(log(x)/log(5))/2 + 1/(2*log(x)))"
            ],
            "text/latex": "$\\displaystyle \\left(\\frac{\\log{\\left(x \\right)}}{\\log{\\left(5 \\right)}}\\right)^{\\frac{x}{2}} \\left(\\frac{\\log{\\left(\\frac{\\log{\\left(x \\right)}}{\\log{\\left(5 \\right)}} \\right)}}{2} + \\frac{1}{2 \\log{\\left(x \\right)}}\\right)$"
          },
          "metadata": {},
          "execution_count": 8
        }
      ]
    },
    {
      "cell_type": "markdown",
      "source": [
        "# Basic Antiderivatives"
      ],
      "metadata": {
        "id": "F9Fmuy7m5rqC"
      }
    },
    {
      "cell_type": "markdown",
      "source": [
        "$$ \\int \\csc(x) \\cot (x)  dx $$"
      ],
      "metadata": {
        "id": "p4TRdLo4pShM"
      }
    },
    {
      "cell_type": "code",
      "source": [
        "smp.integrate(smp.csc(x)*smp.cot(x),x)"
      ],
      "metadata": {
        "colab": {
          "base_uri": "https://localhost:8080/",
          "height": 55
        },
        "id": "nEc6-LX-pTDy",
        "outputId": "70e542b4-0c70-4114-b526-15d93384ec52"
      },
      "execution_count": 9,
      "outputs": [
        {
          "output_type": "execute_result",
          "data": {
            "text/plain": [
              "-1/sin(x)"
            ],
            "text/latex": "$\\displaystyle - \\frac{1}{\\sin{\\left(x \\right)}}$"
          },
          "metadata": {},
          "execution_count": 9
        }
      ]
    },
    {
      "cell_type": "markdown",
      "source": [
        "$$ \\int 4 \\sec (3x) \\tan(3x)dx $$\n"
      ],
      "metadata": {
        "id": "8Pa3eqlkrkLG"
      }
    },
    {
      "cell_type": "code",
      "source": [],
      "metadata": {
        "id": "JNqyVu6arlca"
      },
      "execution_count": null,
      "outputs": []
    },
    {
      "cell_type": "markdown",
      "source": [
        "# Definite Integrals"
      ],
      "metadata": {
        "id": "t3D91vZlpqXA"
      }
    },
    {
      "cell_type": "markdown",
      "source": [
        "$$\\int_{0}^{\\ln(4)}\\frac{e^x dx}{\\sqrt{e^{2x}+9}} $$\n",
        "\n"
      ],
      "metadata": {
        "id": "vKLOdoZ7pqF7"
      }
    },
    {
      "cell_type": "code",
      "source": [
        "smp.integrate(smp.exp(x)/smp.sqrt(smp.exp(2*x)+9),(x,0,smp.log(4)))"
      ],
      "metadata": {
        "colab": {
          "base_uri": "https://localhost:8080/",
          "height": 58
        },
        "id": "_BmxnGWwp1od",
        "outputId": "8a0eff92-cc5e-48a0-a81e-b73d3402c078"
      },
      "execution_count": 13,
      "outputs": [
        {
          "output_type": "execute_result",
          "data": {
            "text/plain": [
              "-asinh(1/3) + asinh(4/3)"
            ],
            "text/latex": "$\\displaystyle - \\operatorname{asinh}{\\left(\\frac{1}{3} \\right)} + \\operatorname{asinh}{\\left(\\frac{4}{3} \\right)}$"
          },
          "metadata": {},
          "execution_count": 13
        }
      ]
    }
  ]
}