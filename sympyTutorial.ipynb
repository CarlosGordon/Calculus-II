{
  "nbformat": 4,
  "nbformat_minor": 0,
  "metadata": {
    "colab": {
      "provenance": [],
      "include_colab_link": true
    },
    "kernelspec": {
      "name": "python3",
      "display_name": "Python 3"
    },
    "language_info": {
      "name": "python"
    }
  },
  "cells": [
    {
      "cell_type": "markdown",
      "metadata": {
        "id": "view-in-github",
        "colab_type": "text"
      },
      "source": [
        "<a href=\"https://colab.research.google.com/github/CarlosGordon/Calculus-II/blob/main/sympyTutorial.ipynb\" target=\"_parent\"><img src=\"https://colab.research.google.com/assets/colab-badge.svg\" alt=\"Open In Colab\"/></a>"
      ]
    },
    {
      "cell_type": "markdown",
      "source": [
        "# **Introduction to sympy**"
      ],
      "metadata": {
        "id": "WBUmGaZbJsRm"
      }
    },
    {
      "cell_type": "code",
      "execution_count": 9,
      "metadata": {
        "id": "M5ubsS9SSFaW"
      },
      "outputs": [],
      "source": [
        "import sympy as smp\n",
        "import numpy as np\n",
        "import matplotlib.pyplot as plt"
      ]
    },
    {
      "cell_type": "markdown",
      "source": [
        "Symbols can be defined the following way"
      ],
      "metadata": {
        "id": "zMhEHj49KXyJ"
      }
    },
    {
      "cell_type": "code",
      "source": [
        "x,y,z= smp.symbols('x y z')"
      ],
      "metadata": {
        "id": "wEdDrbTHJD1U"
      },
      "execution_count": 10,
      "outputs": []
    },
    {
      "cell_type": "code",
      "source": [
        "f=y**3-z"
      ],
      "metadata": {
        "id": "7MXpu5G_JOzE"
      },
      "execution_count": 11,
      "outputs": []
    },
    {
      "cell_type": "code",
      "source": [
        "f"
      ],
      "metadata": {
        "id": "vEfPDXSPJeGs",
        "outputId": "e376f020-e1b3-4582-b4f5-a2df8efba965",
        "colab": {
          "base_uri": "https://localhost:8080/",
          "height": 38
        }
      },
      "execution_count": 12,
      "outputs": [
        {
          "output_type": "execute_result",
          "data": {
            "text/plain": [
              "y**3 - z"
            ],
            "text/latex": "$\\displaystyle y^{3} - z$"
          },
          "metadata": {},
          "execution_count": 12
        }
      ]
    },
    {
      "cell_type": "code",
      "source": [
        "f.subs(y,2)"
      ],
      "metadata": {
        "id": "nGWqueQFJgXD",
        "outputId": "176d47aa-3598-47dc-de8b-78e83afcbb9d",
        "colab": {
          "base_uri": "https://localhost:8080/",
          "height": 38
        }
      },
      "execution_count": 13,
      "outputs": [
        {
          "output_type": "execute_result",
          "data": {
            "text/plain": [
              "8 - z"
            ],
            "text/latex": "$\\displaystyle 8 - z$"
          },
          "metadata": {},
          "execution_count": 13
        }
      ]
    }
  ]
}