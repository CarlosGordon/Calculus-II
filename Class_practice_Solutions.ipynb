{
  "nbformat": 4,
  "nbformat_minor": 0,
  "metadata": {
    "colab": {
      "provenance": [],
      "authorship_tag": "ABX9TyNeCpNhGjkBJHuxmYLXQpyL",
      "include_colab_link": true
    },
    "kernelspec": {
      "name": "python3",
      "display_name": "Python 3"
    },
    "language_info": {
      "name": "python"
    }
  },
  "cells": [
    {
      "cell_type": "markdown",
      "metadata": {
        "id": "view-in-github",
        "colab_type": "text"
      },
      "source": [
        "<a href=\"https://colab.research.google.com/github/CarlosGordon/Calculus-II/blob/main/Class_practice_Solutions.ipynb\" target=\"_parent\"><img src=\"https://colab.research.google.com/assets/colab-badge.svg\" alt=\"Open In Colab\"/></a>"
      ]
    },
    {
      "cell_type": "markdown",
      "source": [
        "\n",
        " # Class Practice: Calculus with Python"
      ],
      "metadata": {
        "id": "SpxWyebRU82K"
      }
    },
    {
      "cell_type": "markdown",
      "source": [
        "## Exercise 1: Partial Derivatives\n",
        "\n",
        "Compute the partial derivatives of the function:\n",
        "\n",
        "$$f(x, y, z) = 3x^2y - e^{xz^2} + \\cos(xy^2)\\sin(z)$$"
      ],
      "metadata": {
        "id": "ji1-4nLzVOn8"
      }
    },
    {
      "cell_type": "code",
      "execution_count": 40,
      "metadata": {
        "colab": {
          "base_uri": "https://localhost:8080/",
          "height": 86
        },
        "id": "FbVmdCCqTwxp",
        "outputId": "a0a94bc6-0a86-4708-c031-00499155425a"
      },
      "outputs": [
        {
          "output_type": "display_data",
          "data": {
            "text/plain": [
              "                                             2\n",
              "                 2           ⎛   2⎞    2  x⋅z \n",
              "∂f/∂x = 6⋅x⋅y - y ⋅sin(z)⋅sin⎝x⋅y ⎠ - z ⋅ℯ    "
            ],
            "text/latex": "$\\displaystyle ∂f/∂x = 6 x y - y^{2} \\sin{\\left(z \\right)} \\sin{\\left(x y^{2} \\right)} - z^{2} e^{x z^{2}}$"
          },
          "metadata": {}
        },
        {
          "output_type": "display_data",
          "data": {
            "text/plain": [
              "           2                   ⎛   2⎞\n",
              "∂f/∂y = 3⋅x  - 2⋅x⋅y⋅sin(z)⋅sin⎝x⋅y ⎠"
            ],
            "text/latex": "$\\displaystyle ∂f/∂y = 3 x^{2} - 2 x y \\sin{\\left(z \\right)} \\sin{\\left(x y^{2} \\right)}$"
          },
          "metadata": {}
        },
        {
          "output_type": "display_data",
          "data": {
            "text/plain": [
              "                    2                   \n",
              "                 x⋅z              ⎛   2⎞\n",
              "∂f/∂z = - 2⋅x⋅z⋅ℯ     + cos(z)⋅cos⎝x⋅y ⎠"
            ],
            "text/latex": "$\\displaystyle ∂f/∂z = - 2 x z e^{x z^{2}} + \\cos{\\left(z \\right)} \\cos{\\left(x y^{2} \\right)}$"
          },
          "metadata": {}
        }
      ],
      "source": [
        "import sympy as sp\n",
        "from sympy.interactive.printing import init_printing\n",
        "\n",
        "\n",
        "init_printing(use_latex=True)  # Enable LaTeX printing for SymPy\n",
        "\n",
        "x, y, z = sp.symbols('x, y, z')\n",
        "f = 3 * x**2 * y - sp.exp(x * z**2) + sp.cos(x * y**2) * sp.sin(z)\n",
        "\n",
        "# Partial derivatives with symbols\n",
        "partialf_dx = sp.symbols('∂f/∂x')  # Symbol for partial derivative with respect to x\n",
        "partialf_dy = sp.symbols('∂f/∂y')  # Symbol for partial derivative with respect to y\n",
        "partialf_dz = sp.symbols('∂f/∂z')  # Symbol for partial derivative with respect to z\n",
        "\n",
        "# Partial derivative with respect to x\n",
        "df_dx = sp.diff(f, x)\n",
        "\n",
        "# Partial derivative with respect to y\n",
        "df_dy = sp.diff(f, y)\n",
        "\n",
        "# Partial derivative with respect to z\n",
        "df_dz = sp.diff(f, z)\n",
        "\n",
        "# Calculate and display partial derivatives\n",
        "display(sp.Eq(partialf_dx,df_dx))\n",
        "display(sp.Eq(partialf_dy,df_dy))\n",
        "display(sp.Eq(partialf_dz,df_dz))\n"
      ]
    },
    {
      "cell_type": "markdown",
      "source": [
        "## Exercise 2: Gradient Function\n",
        "\n",
        "Build a function that calculates the gradient of a scalar function.\n",
        "\n"
      ],
      "metadata": {
        "id": "inzkYIMHU-mi"
      }
    },
    {
      "cell_type": "code",
      "source": [
        "import sympy as sp\n",
        "\n",
        "\n",
        "def gradient(function, variables):\n",
        "  \"\"\"\n",
        "  Calculates the gradient of a scalar function.\n",
        "\n",
        "  Args:\n",
        "    function: The scalar function to differentiate.\n",
        "    variables: A list of symbolic variables.\n",
        "\n",
        "  Returns:\n",
        "    A list representing the gradient vector.\n",
        "  \"\"\"\n",
        "  grad = []\n",
        "  for var in variables:\n",
        "    grad.append(sp.diff(function, var))\n",
        "  return grad"
      ],
      "metadata": {
        "id": "03RNelBjVPC_"
      },
      "execution_count": 53,
      "outputs": []
    },
    {
      "cell_type": "markdown",
      "source": [
        "**Use exercise 1 to check if your function works correctly.**"
      ],
      "metadata": {
        "id": "FmbBHx7KWRWE"
      }
    },
    {
      "cell_type": "code",
      "source": [
        "x, y, z = sp.symbols('x, y, z')\n",
        "f = 3 * x**2 * y - sp.exp(x * z**2) + sp.cos(x * y**2) * sp.sin(z)\n",
        "\n",
        "# Calculate the gradient using the gradient function\n",
        "gradient_f = gradient(f, [x, y, z])\n",
        "\n",
        "# Symbol for the gradient\n",
        "nabla_f = sp.symbols('∇f')\n",
        "\n",
        "# Display the gradient\n",
        "display(gradient_f)"
      ],
      "metadata": {
        "colab": {
          "base_uri": "https://localhost:8080/",
          "height": 47
        },
        "id": "_KVRriabWgUi",
        "outputId": "db9f72f9-fa02-467f-b96c-2f986942e39c"
      },
      "execution_count": 54,
      "outputs": [
        {
          "output_type": "display_data",
          "data": {
            "text/plain": [
              "⎡                                     2                                             2              ↪\n",
              "⎢         2           ⎛   2⎞    2  x⋅z      2                   ⎛   2⎞           x⋅z               ↪\n",
              "⎣6⋅x⋅y - y ⋅sin(z)⋅sin⎝x⋅y ⎠ - z ⋅ℯ    , 3⋅x  - 2⋅x⋅y⋅sin(z)⋅sin⎝x⋅y ⎠, - 2⋅x⋅z⋅ℯ     + cos(z)⋅cos ↪\n",
              "\n",
              "↪       ⎤\n",
              "↪ ⎛   2⎞⎥\n",
              "↪ ⎝x⋅y ⎠⎦"
            ],
            "text/latex": "$\\displaystyle \\left[ 6 x y - y^{2} \\sin{\\left(z \\right)} \\sin{\\left(x y^{2} \\right)} - z^{2} e^{x z^{2}}, \\  3 x^{2} - 2 x y \\sin{\\left(z \\right)} \\sin{\\left(x y^{2} \\right)}, \\  - 2 x z e^{x z^{2}} + \\cos{\\left(z \\right)} \\cos{\\left(x y^{2} \\right)}\\right]$"
          },
          "metadata": {}
        }
      ]
    },
    {
      "cell_type": "markdown",
      "source": [
        "## Exercise 3: Directional Derivative\n",
        "\n",
        "Using the `gradient` function from Exercise 2, build a function that\n",
        "calculates the directional derivative of a scalar function."
      ],
      "metadata": {
        "id": "0M-edNmjWFWm"
      }
    },
    {
      "cell_type": "code",
      "source": [
        "import sympy as sp\n",
        "\n",
        "\n",
        "def directional_derivative(function, variables, direction_vector, point):\n",
        "  \"\"\"\n",
        "  Calculates the directional derivative of a scalar function at a point.\n",
        "\n",
        "  Args:\n",
        "    function: The scalar function.\n",
        "    variables: A list of symbolic variables.\n",
        "    direction_vector: The direction vector.\n",
        "    point: The point at which to evaluate the derivative (tuple).\n",
        "\n",
        "  Returns:\n",
        "    The directional derivative at the point.\n",
        "  \"\"\"\n",
        "  grad = gradient(function, variables)\n",
        "\n",
        "  # convert direction vector to sympy matrix for compatibility and making it unit\n",
        "  vector = sp.Matrix(direction_vector)\n",
        "  direction_vector=vector/vector.norm()\n",
        "  # Ensure grad is a column vector (sympy Matrix)\n",
        "  grad_matrix = sp.Matrix(grad)\n",
        "\n",
        "\n",
        "  # Calculate the directional derivative\n",
        "\n",
        "  directional_deriv = direction_vector.dot(grad_matrix)\n",
        "\n",
        "  # Substitute the point coordinates\n",
        "  substitutions = {var: val for var, val in zip(variables, point)}\n",
        "  directional_deriv_at_point = directional_deriv.subs(substitutions)\n",
        "\n",
        "  return directional_deriv_at_point\n",
        "\n"
      ],
      "metadata": {
        "id": "p82v1C-dWHLW"
      },
      "execution_count": 51,
      "outputs": []
    },
    {
      "cell_type": "markdown",
      "source": [
        "## Exercise 4: Directional Derivatives\n",
        "\n",
        "Compute the directional derivative of the function of exercise 1, and the direction of the vector $\\vec{v}=(1,2,4)$ at the point $P=(1,1,-3)$."
      ],
      "metadata": {
        "id": "Si1s6Yj3Whue"
      }
    },
    {
      "cell_type": "code",
      "source": [
        "x, y, z = sp.symbols('x, y, z')\n",
        "f = 3 * x**2 * y - sp.exp(x * z**2) + sp.cos(x * y**2) * sp.sin(z)\n",
        "v = [1, 2, 4]  # Direction vector\n",
        "P = (1, 1, -3)  # Point\n",
        "\n",
        "# Calculate the directional derivative at point P\n",
        "directional_deriv_at_P = directional_derivative(f, [x, y, z], v, P)\n",
        "\n",
        "# Display the directional derivative at P\n",
        "display(directional_deriv_at_P.evalf())"
      ],
      "metadata": {
        "colab": {
          "base_uri": "https://localhost:8080/",
          "height": 37
        },
        "id": "FtSTpC7pdHbU",
        "outputId": "faa03f1d-41cc-4fdc-ab80-f786117181a3"
      },
      "execution_count": 52,
      "outputs": [
        {
          "output_type": "display_data",
          "data": {
            "text/plain": [
              "26525.8494711778"
            ],
            "text/latex": "$\\displaystyle 26525.8494711778$"
          },
          "metadata": {}
        }
      ]
    }
  ]
}