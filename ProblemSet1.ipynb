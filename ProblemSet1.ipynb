{
  "cells": [
    {
      "cell_type": "markdown",
      "metadata": {
        "id": "view-in-github",
        "colab_type": "text"
      },
      "source": [
        "<a href=\"https://colab.research.google.com/github/CarlosGordon/Calculus-II/blob/main/ProblemSet1.ipynb\" target=\"_parent\"><img src=\"https://colab.research.google.com/assets/colab-badge.svg\" alt=\"Open In Colab\"/></a>"
      ]
    },
    {
      "cell_type": "markdown",
      "source": [
        "# Problem Set 1. Limits, and continuity."
      ],
      "metadata": {
        "id": "dftYGVke3U4i"
      }
    },
    {
      "cell_type": "markdown",
      "source": [
        "I should put 1 example done and the rest to be exercises"
      ],
      "metadata": {
        "id": "7bEe5c2j6NG7"
      }
    },
    {
      "cell_type": "code",
      "execution_count": null,
      "metadata": {
        "id": "Iwn63Uh14GfP"
      },
      "outputs": [],
      "source": [
        "import sympy as smp\n",
        "from sympy import *\n",
        "import numpy as np\n",
        "import matplotlib.pyplot as plt"
      ]
    },
    {
      "cell_type": "code",
      "execution_count": null,
      "metadata": {
        "id": "us_gXZwQ4GfQ"
      },
      "outputs": [],
      "source": [
        "x, y = smp.symbols('x y')"
      ]
    },
    {
      "cell_type": "markdown",
      "metadata": {
        "id": "ySxz8_S84GfQ"
      },
      "source": [
        "# Limits"
      ]
    },
    {
      "cell_type": "markdown",
      "metadata": {
        "id": "DFuqCswr4GfR"
      },
      "source": [
        "$$\\lim_{x \\to \\pi} \\sin(x/2+ \\sin(x))$$"
      ]
    },
    {
      "cell_type": "code",
      "execution_count": null,
      "metadata": {
        "id": "kde245m94GfR"
      },
      "outputs": [],
      "source": []
    },
    {
      "cell_type": "markdown",
      "metadata": {
        "id": "VQd7UKCG4GfR"
      },
      "source": [
        "$$ \\lim_{x \\to 0^+} \\frac{2e^{1/x}}{e^{1/x}+1} $$"
      ]
    },
    {
      "cell_type": "code",
      "execution_count": null,
      "metadata": {
        "id": "4bM13y_W4GfS"
      },
      "outputs": [],
      "source": []
    },
    {
      "cell_type": "markdown",
      "metadata": {
        "id": "atphfdp84GfS"
      },
      "source": [
        "$$ \\lim_{x \\to 0^-} \\frac{2e^{1/x}}{e^{1/x}+1} $$"
      ]
    },
    {
      "cell_type": "code",
      "execution_count": null,
      "metadata": {
        "id": "5_dZ_par4GfS"
      },
      "outputs": [],
      "source": []
    },
    {
      "cell_type": "markdown",
      "metadata": {
        "id": "Sxw-ZHlg4GfS"
      },
      "source": [
        "$$ \\lim_{x \\to \\infty} \\frac{\\cos(x)-1}{x} $$"
      ]
    },
    {
      "cell_type": "code",
      "execution_count": null,
      "metadata": {
        "id": "2ULhow3w4GfS"
      },
      "outputs": [],
      "source": []
    },
    {
      "cell_type": "markdown",
      "source": [
        "$$ \\lim_{x \\to -2} \\frac{x^3+8}{x^2-4} $$"
      ],
      "metadata": {
        "id": "DMahW59iXDfj"
      }
    },
    {
      "cell_type": "code",
      "source": [],
      "metadata": {
        "id": "IV8u7abeXDID"
      },
      "execution_count": null,
      "outputs": []
    },
    {
      "cell_type": "markdown",
      "source": [
        "$$ \\lim_{x \\to 0} \\cos{\\left(\\frac{1}{x^2}\\right)} $$"
      ],
      "metadata": {
        "id": "otkxh-FJXNot"
      }
    },
    {
      "cell_type": "code",
      "source": [],
      "metadata": {
        "id": "eoR_T4fJXNHg"
      },
      "execution_count": null,
      "outputs": []
    },
    {
      "cell_type": "markdown",
      "source": [
        "$$ \\lim_{x \\to 0} \\frac{\\sqrt{1+x}-\\sqrt{1-x}}{x} $$"
      ],
      "metadata": {
        "id": "P0tBTrSWXWTS"
      }
    },
    {
      "cell_type": "code",
      "source": [],
      "metadata": {
        "id": "GnbkyorNXVlY"
      },
      "execution_count": null,
      "outputs": []
    },
    {
      "cell_type": "markdown",
      "source": [
        "$$ \\lim_{x \\to 0} \\frac{\\sin{\\left(\\tan{x}\\right)}}{x} $$\n",
        "\n",
        "\n"
      ],
      "metadata": {
        "id": "rfK_iXrgXpa0"
      }
    },
    {
      "cell_type": "code",
      "source": [],
      "metadata": {
        "id": "ygX7QUaQXpIg"
      },
      "execution_count": null,
      "outputs": []
    },
    {
      "cell_type": "markdown",
      "source": [
        "$$ \\lim_{x \\to 0} \\frac{\\sin{\\left(\\tan{x}\\right)}}{x} $$\n",
        "\n",
        "\n"
      ],
      "metadata": {
        "id": "Elw1lEfNYSGM"
      }
    },
    {
      "cell_type": "markdown",
      "source": [
        "Cambiar anterior\n",
        "\n",
        "\n"
      ],
      "metadata": {
        "id": "g2fxnbtiYTJ2"
      }
    }
  ],
  "metadata": {
    "kernelspec": {
      "display_name": "Python 3",
      "language": "python",
      "name": "python3"
    },
    "language_info": {
      "codemirror_mode": {
        "name": "ipython",
        "version": 3
      },
      "file_extension": ".py",
      "mimetype": "text/x-python",
      "name": "python",
      "nbconvert_exporter": "python",
      "pygments_lexer": "ipython3",
      "version": "3.6.9"
    },
    "colab": {
      "provenance": [],
      "include_colab_link": true
    }
  },
  "nbformat": 4,
  "nbformat_minor": 0
}