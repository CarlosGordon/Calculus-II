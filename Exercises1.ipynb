{
  "cells": [
    {
      "cell_type": "markdown",
      "metadata": {
        "id": "view-in-github",
        "colab_type": "text"
      },
      "source": [
        "<a href=\"https://colab.research.google.com/github/CarlosGordon/Calculus-II/blob/main/Exercises1.ipynb\" target=\"_parent\"><img src=\"https://colab.research.google.com/assets/colab-badge.svg\" alt=\"Open In Colab\"/></a>"
      ]
    },
    {
      "cell_type": "markdown",
      "source": [
        "# The idea of this collab is to create exercises empty for the students to complete and train their knowledge in sympy."
      ],
      "metadata": {
        "id": "dftYGVke3U4i"
      }
    },
    {
      "cell_type": "markdown",
      "source": [
        "I should put 1 example done and the rest to be exercises. Think (grab from problemsets) of 10 limits, 10 derivatives, 10 antiderivatives and 10 definite integrals."
      ],
      "metadata": {
        "id": "7bEe5c2j6NG7"
      }
    },
    {
      "cell_type": "code",
      "execution_count": null,
      "metadata": {
        "id": "Iwn63Uh14GfP"
      },
      "outputs": [],
      "source": [
        "import sympy as smp\n",
        "from sympy import *\n",
        "import numpy as np\n",
        "import matplotlib.pyplot as plt"
      ]
    },
    {
      "cell_type": "code",
      "execution_count": null,
      "metadata": {
        "id": "us_gXZwQ4GfQ"
      },
      "outputs": [],
      "source": [
        "x, y = smp.symbols('x y')"
      ]
    },
    {
      "cell_type": "markdown",
      "metadata": {
        "id": "ySxz8_S84GfQ"
      },
      "source": [
        "# Limits"
      ]
    },
    {
      "cell_type": "markdown",
      "metadata": {
        "id": "DFuqCswr4GfR"
      },
      "source": [
        "$$\\lim_{x \\to \\pi} \\sin(x/2+ \\sin(x))$$"
      ]
    },
    {
      "cell_type": "code",
      "execution_count": null,
      "metadata": {
        "colab": {
          "base_uri": "https://localhost:8080/",
          "height": 37
        },
        "id": "kde245m94GfR",
        "outputId": "aa37fe12-28cf-4e92-c92e-e71748ad7c92"
      },
      "outputs": [
        {
          "output_type": "execute_result",
          "data": {
            "text/plain": [
              "1"
            ],
            "text/latex": "$\\displaystyle 1$"
          },
          "metadata": {},
          "execution_count": 6
        }
      ],
      "source": []
    },
    {
      "cell_type": "markdown",
      "metadata": {
        "id": "VQd7UKCG4GfR"
      },
      "source": [
        "$$ \\lim_{x \\to 0^+} \\frac{2e^{1/x}}{e^{1/x}+1} $$"
      ]
    },
    {
      "cell_type": "code",
      "execution_count": null,
      "metadata": {
        "id": "4bM13y_W4GfS",
        "outputId": "1197f851-2376-452c-a6af-32f9209d400a"
      },
      "outputs": [
        {
          "data": {
            "text/latex": [
              "$\\displaystyle 2$"
            ],
            "text/plain": [
              "2"
            ]
          },
          "execution_count": 22,
          "metadata": {},
          "output_type": "execute_result"
        }
      ],
      "source": []
    },
    {
      "cell_type": "markdown",
      "metadata": {
        "id": "atphfdp84GfS"
      },
      "source": [
        "$$ \\lim_{x \\to 0^-} \\frac{2e^{1/x}}{e^{1/x}+1} $$"
      ]
    },
    {
      "cell_type": "code",
      "execution_count": null,
      "metadata": {
        "id": "5_dZ_par4GfS",
        "outputId": "6f9ee69d-1da5-4a18-f076-5de1b49eb649"
      },
      "outputs": [
        {
          "data": {
            "text/latex": [
              "$\\displaystyle 0$"
            ],
            "text/plain": [
              "0"
            ]
          },
          "execution_count": 23,
          "metadata": {},
          "output_type": "execute_result"
        }
      ],
      "source": []
    },
    {
      "cell_type": "markdown",
      "metadata": {
        "id": "Sxw-ZHlg4GfS"
      },
      "source": [
        "$$ \\lim_{x \\to \\infty} \\frac{\\cos(x)-1}{x} $$"
      ]
    },
    {
      "cell_type": "code",
      "execution_count": null,
      "metadata": {
        "id": "2ULhow3w4GfS",
        "outputId": "7eb51435-ff5b-429c-9c65-8990564ec959"
      },
      "outputs": [
        {
          "data": {
            "text/latex": [
              "$\\displaystyle 0$"
            ],
            "text/plain": [
              "0"
            ]
          },
          "execution_count": 25,
          "metadata": {},
          "output_type": "execute_result"
        }
      ],
      "source": []
    },
    {
      "cell_type": "markdown",
      "metadata": {
        "id": "ztGZVTR_4GfT"
      },
      "source": [
        "# Derivatives"
      ]
    },
    {
      "cell_type": "markdown",
      "metadata": {
        "id": "Z65ZRqhf4GfT"
      },
      "source": [
        "$$ \\frac{d}{dx} \\left( \\frac{1+\\sin x}{1 - \\cos x} \\right)^2 $$"
      ]
    },
    {
      "cell_type": "code",
      "execution_count": null,
      "metadata": {
        "id": "bSAl5Ca74GfT",
        "outputId": "c8736702-9325-47cb-cb92-42580fb74c1e"
      },
      "outputs": [
        {
          "data": {
            "text/latex": [
              "$\\displaystyle \\frac{2 \\left(\\sin{\\left(x \\right)} + 1\\right) \\cos{\\left(x \\right)}}{\\left(1 - \\cos{\\left(x \\right)}\\right)^{2}} - \\frac{2 \\left(\\sin{\\left(x \\right)} + 1\\right)^{2} \\sin{\\left(x \\right)}}{\\left(1 - \\cos{\\left(x \\right)}\\right)^{3}}$"
            ],
            "text/plain": [
              "2*(sin(x) + 1)*cos(x)/(1 - cos(x))**2 - 2*(sin(x) + 1)**2*sin(x)/(1 - cos(x))**3"
            ]
          },
          "execution_count": 30,
          "metadata": {},
          "output_type": "execute_result"
        }
      ],
      "source": []
    },
    {
      "cell_type": "markdown",
      "metadata": {
        "id": "9gAXMtJm4GfT"
      },
      "source": [
        "$$ \\frac{d}{dx} (\\log_5 (x))^{x/2}$$"
      ]
    },
    {
      "cell_type": "code",
      "execution_count": null,
      "metadata": {
        "id": "sNwpk_uo4GfT",
        "outputId": "0bba0c37-cffa-434a-87e0-6123b71c2a71"
      },
      "outputs": [
        {
          "data": {
            "text/latex": [
              "$\\displaystyle \\left(\\frac{\\log{\\left(x \\right)}}{\\log{\\left(5 \\right)}}\\right)^{\\frac{x}{2}} \\left(\\frac{\\log{\\left(\\frac{\\log{\\left(x \\right)}}{\\log{\\left(5 \\right)}} \\right)}}{2} + \\frac{1}{2 \\log{\\left(x \\right)}}\\right)$"
            ],
            "text/plain": [
              "(log(x)/log(5))**(x/2)*(log(log(x)/log(5))/2 + 1/(2*log(x)))"
            ]
          },
          "execution_count": 33,
          "metadata": {},
          "output_type": "execute_result"
        }
      ],
      "source": []
    },
    {
      "cell_type": "markdown",
      "metadata": {
        "id": "TKnmXgx24GfU"
      },
      "source": [
        "# Basic Antiderivatives"
      ]
    },
    {
      "cell_type": "markdown",
      "metadata": {
        "id": "MEyvSHc64GfU"
      },
      "source": [
        "$$ \\int \\csc(x) \\cot (x)  dx $$"
      ]
    },
    {
      "cell_type": "code",
      "execution_count": null,
      "metadata": {
        "id": "H4Rhs8wu4GfU",
        "outputId": "39a9432c-a481-450c-8eb7-682e0c18d860"
      },
      "outputs": [
        {
          "data": {
            "text/latex": [
              "$\\displaystyle - \\frac{1}{\\sin{\\left(x \\right)}}$"
            ],
            "text/plain": [
              "-1/sin(x)"
            ]
          },
          "execution_count": 37,
          "metadata": {},
          "output_type": "execute_result"
        }
      ],
      "source": []
    },
    {
      "cell_type": "markdown",
      "metadata": {
        "id": "HDNpn8014GfU"
      },
      "source": [
        "$$ \\int 4 \\sec (3x) \\tan(3x)dx $$"
      ]
    },
    {
      "cell_type": "code",
      "execution_count": null,
      "metadata": {
        "id": "DdKVrZp74GfU",
        "outputId": "52fc9a0d-f206-4ebe-be75-b563b0d59a55"
      },
      "outputs": [
        {
          "data": {
            "text/latex": [
              "$\\displaystyle \\frac{4}{3 \\cos{\\left(3 x \\right)}}$"
            ],
            "text/plain": [
              "4/(3*cos(3*x))"
            ]
          },
          "execution_count": 38,
          "metadata": {},
          "output_type": "execute_result"
        }
      ],
      "source": []
    },
    {
      "cell_type": "markdown",
      "metadata": {
        "id": "bNPhIqQ44GfU"
      },
      "source": [
        "$$ \\int \\left( \\frac{2}{\\sqrt{1-x^2}} - \\frac{1}{x^{1/4}}\\right) dx$$"
      ]
    },
    {
      "cell_type": "code",
      "execution_count": null,
      "metadata": {
        "id": "SJEaZkkV4GfU",
        "outputId": "0ecdda4f-367b-4170-a480-e1a01ea8094c"
      },
      "outputs": [
        {
          "data": {
            "text/latex": [
              "$\\displaystyle - \\frac{4 x^{\\frac{3}{4}}}{3} + 2 \\operatorname{asin}{\\left(x \\right)}$"
            ],
            "text/plain": [
              "-4*x**(3/4)/3 + 2*asin(x)"
            ]
          },
          "execution_count": 40,
          "metadata": {},
          "output_type": "execute_result"
        }
      ],
      "source": []
    },
    {
      "cell_type": "markdown",
      "metadata": {
        "id": "JSeNQxou4GfU"
      },
      "source": [
        "# Initial Value Problems"
      ]
    },
    {
      "cell_type": "markdown",
      "metadata": {
        "id": "18bLOpUP4GfU"
      },
      "source": [
        "1. Given $\\frac{dy}{dx} = 8x + \\csc^2(x)$ with $y(\\pi/2) = -7$  solve for $y(x)$"
      ]
    },
    {
      "cell_type": "code",
      "execution_count": null,
      "metadata": {
        "id": "hG_rFDS94GfU"
      },
      "outputs": [],
      "source": [
        "integral = smp.integrate(8*x + smp.csc(x)**2, x)"
      ]
    },
    {
      "cell_type": "code",
      "execution_count": null,
      "metadata": {
        "id": "UogWA-o14GfU"
      },
      "outputs": [],
      "source": [
        "C = - integral.subs(x, smp.pi/2) - 7\n",
        "y = integral + C"
      ]
    },
    {
      "cell_type": "code",
      "execution_count": null,
      "metadata": {
        "id": "ocIEp2_H4GfU",
        "outputId": "f6b8c08c-3a4a-4bf0-b777-fc955f1a2dd8"
      },
      "outputs": [
        {
          "data": {
            "text/latex": [
              "$\\displaystyle -7$"
            ],
            "text/plain": [
              "-7"
            ]
          },
          "execution_count": 47,
          "metadata": {},
          "output_type": "execute_result"
        }
      ],
      "source": [
        "y.subs(x, smp.pi/2)"
      ]
    },
    {
      "cell_type": "code",
      "execution_count": null,
      "metadata": {
        "id": "HcPYv56J4GfV",
        "outputId": "36e5a81b-8188-4257-8069-44edd7e9b8c5"
      },
      "outputs": [
        {
          "data": {
            "text/latex": [
              "$\\displaystyle 4 x^{2} - \\pi^{2} - 7 - \\frac{\\cos{\\left(x \\right)}}{\\sin{\\left(x \\right)}}$"
            ],
            "text/plain": [
              "4*x**2 - pi**2 - 7 - cos(x)/sin(x)"
            ]
          },
          "execution_count": 48,
          "metadata": {},
          "output_type": "execute_result"
        }
      ],
      "source": [
        "y"
      ]
    },
    {
      "cell_type": "markdown",
      "metadata": {
        "id": "EpM8W2OX4GfV"
      },
      "source": [
        "# More Complicated Expressions"
      ]
    },
    {
      "cell_type": "markdown",
      "metadata": {
        "id": "hlue2hwF4GfV"
      },
      "source": [
        " $$\\int \\frac{(1+\\sqrt{x})^{1/3}}{\\sqrt{x}} dx$$"
      ]
    },
    {
      "cell_type": "code",
      "source": [],
      "metadata": {
        "id": "PUUcaznq6BSQ"
      },
      "execution_count": null,
      "outputs": []
    },
    {
      "cell_type": "markdown",
      "metadata": {
        "id": "x9q1ydvT4GfV"
      },
      "source": [
        "$$\\int x (1-x^2)^{1/4} dx$$"
      ]
    },
    {
      "cell_type": "code",
      "execution_count": null,
      "metadata": {
        "id": "-j0ZLvU34GfW",
        "outputId": "c73a8bb1-2b9e-440a-a735-707288d865c6"
      },
      "outputs": [
        {
          "data": {
            "text/latex": [
              "$\\displaystyle \\frac{2 x^{2} \\sqrt[4]{1 - x^{2}}}{5} - \\frac{2 \\sqrt[4]{1 - x^{2}}}{5}$"
            ],
            "text/plain": [
              "2*x**2*(1 - x**2)**(1/4)/5 - 2*(1 - x**2)**(1/4)/5"
            ]
          },
          "execution_count": 52,
          "metadata": {},
          "output_type": "execute_result"
        }
      ],
      "source": []
    },
    {
      "cell_type": "markdown",
      "metadata": {
        "id": "ElePbIr54GfW"
      },
      "source": [
        "$$ \\int \\frac{(2x-1)\\cos(\\sqrt{3(2x-1)^2+6})}{\\sqrt{3(2x-1)^2+6}} dx $$"
      ]
    },
    {
      "cell_type": "code",
      "execution_count": null,
      "metadata": {
        "id": "p0kihTXB4GfW",
        "outputId": "fb8692c9-72ee-409f-9ab2-24d2ce73e54d"
      },
      "outputs": [
        {
          "data": {
            "text/latex": [
              "$\\displaystyle \\frac{\\sin{\\left(\\sqrt{3 \\left(2 x - 1\\right)^{2} + 6} \\right)}}{6}$"
            ],
            "text/plain": [
              "sin(sqrt(3*(2*x - 1)**2 + 6))/6"
            ]
          },
          "execution_count": 55,
          "metadata": {},
          "output_type": "execute_result"
        }
      ],
      "source": []
    },
    {
      "cell_type": "markdown",
      "metadata": {
        "id": "RrN4V7hy4GfX"
      },
      "source": [
        "# Definite Integrals"
      ]
    },
    {
      "cell_type": "markdown",
      "metadata": {
        "id": "nPdRE0t34GfX"
      },
      "source": [
        "$$\\int_{0}^{\\ln(4)}\\frac{e^x dt}{\\sqrt{e^{2x}+9}} $$"
      ]
    },
    {
      "cell_type": "code",
      "execution_count": null,
      "metadata": {
        "id": "8Jrqkpy14GfX",
        "outputId": "905b57dc-48c6-443e-ff76-c23450c37282"
      },
      "outputs": [
        {
          "data": {
            "text/latex": [
              "$\\displaystyle - \\operatorname{asinh}{\\left(\\frac{1}{3} \\right)} + \\operatorname{asinh}{\\left(\\frac{4}{3} \\right)}$"
            ],
            "text/plain": [
              "-asinh(1/3) + asinh(4/3)"
            ]
          },
          "execution_count": 57,
          "metadata": {},
          "output_type": "execute_result"
        }
      ],
      "source": [
        "smp.integrate(smp.exp(x) / smp.sqrt(smp.exp(2*x) + 9), (x, 0, smp.log(4)))"
      ]
    },
    {
      "cell_type": "markdown",
      "metadata": {
        "id": "glcbW1wP4GfX"
      },
      "source": [
        "$$\\int_1^t x^{10} e^x dx $$"
      ]
    },
    {
      "cell_type": "code",
      "execution_count": null,
      "metadata": {
        "id": "qaEOT4N94GfX"
      },
      "outputs": [],
      "source": [
        "t= smp.symbols('t')"
      ]
    },
    {
      "cell_type": "code",
      "execution_count": null,
      "metadata": {
        "id": "lMeJ0ih34GfX",
        "outputId": "30139e2b-7dad-49bf-9b79-295bdfbe282d"
      },
      "outputs": [
        {
          "data": {
            "text/latex": [
              "$\\displaystyle \\left(t^{10} - 10 t^{9} + 90 t^{8} - 720 t^{7} + 5040 t^{6} - 30240 t^{5} + 151200 t^{4} - 604800 t^{3} + 1814400 t^{2} - 3628800 t + 3628800\\right) e^{t} - 1334961 e$"
            ],
            "text/plain": [
              "(t**10 - 10*t**9 + 90*t**8 - 720*t**7 + 5040*t**6 - 30240*t**5 + 151200*t**4 - 604800*t**3 + 1814400*t**2 - 3628800*t + 3628800)*exp(t) - 1334961*E"
            ]
          },
          "execution_count": 60,
          "metadata": {},
          "output_type": "execute_result"
        }
      ],
      "source": [
        "smp.integrate(x**10*smp.exp(x), (x, 1, t))"
      ]
    },
    {
      "cell_type": "markdown",
      "metadata": {
        "id": "dY4hMEZW4GfX"
      },
      "source": [
        "# Improper Integrals"
      ]
    },
    {
      "cell_type": "markdown",
      "metadata": {
        "id": "Ehe01b0T4GfX"
      },
      "source": [
        "$$ \\int_{0}^{\\infty} \\frac{16 \\tan^{-1}(x)}{1+x^2} dx $$"
      ]
    },
    {
      "cell_type": "code",
      "execution_count": null,
      "metadata": {
        "id": "AeQ4l4a04GfX",
        "outputId": "cab1848f-71b0-4cc4-d558-6b31821910d0"
      },
      "outputs": [
        {
          "data": {
            "text/latex": [
              "$\\displaystyle 2 \\pi^{2}$"
            ],
            "text/plain": [
              "2*pi**2"
            ]
          },
          "execution_count": 62,
          "metadata": {},
          "output_type": "execute_result"
        }
      ],
      "source": [
        "smp.integrate(16*smp.atan(x) / (1+x**2), (x, 0, smp.oo))"
      ]
    },
    {
      "cell_type": "markdown",
      "metadata": {
        "id": "a2nULM-b4GfX"
      },
      "source": [
        "# Sequences and Series"
      ]
    },
    {
      "cell_type": "code",
      "execution_count": null,
      "metadata": {
        "id": "LGy1T1uX4GfX"
      },
      "outputs": [],
      "source": [
        "n = smp.symbols('n')"
      ]
    },
    {
      "cell_type": "markdown",
      "metadata": {
        "id": "cfnEXoox4GfX"
      },
      "source": [
        "$$ \\sum_{n=0}^\\infty \\frac{6}{4^n} $$"
      ]
    },
    {
      "cell_type": "code",
      "execution_count": null,
      "metadata": {
        "id": "RVwN6AHm4GfY",
        "outputId": "b6328c4e-1a3d-4572-e0b7-cf83f9e82fee"
      },
      "outputs": [
        {
          "data": {
            "text/latex": [
              "$\\displaystyle 8$"
            ],
            "text/plain": [
              "8"
            ]
          },
          "execution_count": 66,
          "metadata": {},
          "output_type": "execute_result"
        }
      ],
      "source": [
        "smp.Sum(6/4**n, (n,0,smp.oo)).doit()"
      ]
    },
    {
      "cell_type": "markdown",
      "metadata": {
        "id": "_2itt_FE4GfY"
      },
      "source": [
        "$$ \\sum_{n=0}^\\infty \\frac{2^{n+1}}{5^n} $$"
      ]
    },
    {
      "cell_type": "code",
      "execution_count": null,
      "metadata": {
        "id": "rlpuDUgL4GfY",
        "outputId": "a6e89bc3-79a8-4779-943d-bf8179c9f1a4"
      },
      "outputs": [
        {
          "data": {
            "text/latex": [
              "$\\displaystyle \\frac{10}{3}$"
            ],
            "text/plain": [
              "10/3"
            ]
          },
          "execution_count": 68,
          "metadata": {},
          "output_type": "execute_result"
        }
      ],
      "source": [
        "smp.Sum(2**(n+1) / 5**n, (n,0,smp.oo)).doit()"
      ]
    },
    {
      "cell_type": "markdown",
      "metadata": {
        "id": "A4_SU5Rs4GfY"
      },
      "source": [
        "$$ \\sum_{n=1}^{\\infty} \\frac{\\tan^{-1}(n)}{n^{1.1}} $$"
      ]
    },
    {
      "cell_type": "code",
      "execution_count": null,
      "metadata": {
        "id": "DRBFqAHx4GfY",
        "outputId": "0fc391a4-3369-4ab2-ec3c-af22a9c463d1"
      },
      "outputs": [
        {
          "data": {
            "text/latex": [
              "$\\displaystyle \\sum_{n=1}^{\\infty} \\frac{\\operatorname{atan}{\\left(n \\right)}}{n^{\\frac{11}{10}}}$"
            ],
            "text/plain": [
              "Sum(atan(n)/n**(11/10), (n, 1, oo))"
            ]
          },
          "execution_count": 73,
          "metadata": {},
          "output_type": "execute_result"
        }
      ],
      "source": [
        "smp.Sum(smp.atan(n)/n**smp.Rational(11,10), (n,1,smp.oo)).doit()"
      ]
    },
    {
      "cell_type": "markdown",
      "metadata": {
        "id": "_FVBigJW4GfY"
      },
      "source": [
        "$$ \\sum_{n=1}^\\infty \\frac{1 + \\cos(n)}{n^2}$$"
      ]
    },
    {
      "cell_type": "code",
      "execution_count": null,
      "metadata": {
        "id": "_4eYf1sU4GfY",
        "outputId": "86c0a508-ad23-4e8c-8833-fdb13738cd01"
      },
      "outputs": [
        {
          "data": {
            "text/latex": [
              "$\\displaystyle 1.969$"
            ],
            "text/plain": [
              "1.969"
            ]
          },
          "execution_count": 80,
          "metadata": {},
          "output_type": "execute_result"
        }
      ],
      "source": [
        "smp.Sum((1+smp.cos(n))/n**2, (n,1,smp.oo)).n()"
      ]
    }
  ],
  "metadata": {
    "kernelspec": {
      "display_name": "Python 3",
      "language": "python",
      "name": "python3"
    },
    "language_info": {
      "codemirror_mode": {
        "name": "ipython",
        "version": 3
      },
      "file_extension": ".py",
      "mimetype": "text/x-python",
      "name": "python",
      "nbconvert_exporter": "python",
      "pygments_lexer": "ipython3",
      "version": "3.6.9"
    },
    "colab": {
      "provenance": [],
      "include_colab_link": true
    }
  },
  "nbformat": 4,
  "nbformat_minor": 0
}