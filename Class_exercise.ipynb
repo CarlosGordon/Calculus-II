{
  "nbformat": 4,
  "nbformat_minor": 0,
  "metadata": {
    "colab": {
      "provenance": [],
      "authorship_tag": "ABX9TyPRg1nZgRrImi1QtSOuZikW",
      "include_colab_link": true
    },
    "kernelspec": {
      "name": "python3",
      "display_name": "Python 3"
    },
    "language_info": {
      "name": "python"
    }
  },
  "cells": [
    {
      "cell_type": "markdown",
      "metadata": {
        "id": "view-in-github",
        "colab_type": "text"
      },
      "source": [
        "<a href=\"https://colab.research.google.com/github/CarlosGordon/Calculus-II/blob/main/Class_exercise.ipynb\" target=\"_parent\"><img src=\"https://colab.research.google.com/assets/colab-badge.svg\" alt=\"Open In Colab\"/></a>"
      ]
    },
    {
      "cell_type": "markdown",
      "source": [
        "\n",
        " # Class Practice: Calculus with Python"
      ],
      "metadata": {
        "id": "SpxWyebRU82K"
      }
    },
    {
      "cell_type": "markdown",
      "source": [
        "## Exercise 1: Partial Derivatives\n",
        "\n",
        "Compute the partial derivatives of the function:\n",
        "\n",
        "$$f(x, y, z) = 3x^2y - e^{xz^2} + \\cos(xy^2)\\sin(z)$$"
      ],
      "metadata": {
        "id": "ji1-4nLzVOn8"
      }
    },
    {
      "cell_type": "code",
      "execution_count": null,
      "metadata": {
        "id": "FbVmdCCqTwxp"
      },
      "outputs": [],
      "source": [
        "# Your code here\n"
      ]
    },
    {
      "cell_type": "markdown",
      "source": [
        "## Exercise 2: Gradient Function\n",
        "\n",
        "Build a function that calculates the gradient of a scalar function.\n",
        "\n"
      ],
      "metadata": {
        "id": "inzkYIMHU-mi"
      }
    },
    {
      "cell_type": "code",
      "source": [
        "import sympy as sp\n",
        "\n",
        "def gradient(function, variables):\n",
        "  \"\"\"\n",
        "  Calculates the gradient of a scalar function.\n",
        "\n",
        "  Args:\n",
        "    function: The scalar function to differentiate.\n",
        "    variables: A list of symbolic variables.\n",
        "\n",
        "  Returns:\n",
        "    A list representing the gradient vector.\n",
        "  \"\"\"\n",
        "  # Tips:\n",
        "  # - Use sp.diff to calculate partial derivatives.\n",
        "  # - sp.symbols is used to define symbolic variables: x, y, z = sp.symbols('x, y, z')\n",
        "  # - The output should be a list of sympy expressions."
      ],
      "metadata": {
        "id": "03RNelBjVPC_"
      },
      "execution_count": null,
      "outputs": []
    },
    {
      "cell_type": "markdown",
      "source": [
        "**Use exercise 1 to check if your function works correctly.**"
      ],
      "metadata": {
        "id": "FmbBHx7KWRWE"
      }
    },
    {
      "cell_type": "code",
      "source": [
        "# Your code here"
      ],
      "metadata": {
        "id": "_KVRriabWgUi"
      },
      "execution_count": null,
      "outputs": []
    },
    {
      "cell_type": "markdown",
      "source": [
        "## Exercise 3: Directional Derivative\n",
        "\n",
        "Using the `gradient` function from Exercise 2, build a function that\n",
        "calculates the directional derivative of a scalar function."
      ],
      "metadata": {
        "id": "0M-edNmjWFWm"
      }
    },
    {
      "cell_type": "code",
      "source": [
        "def directional_derivative(function, variables, direction_vector):\n",
        "  \"\"\"\n",
        "  Calculates the directional derivative of a scalar function.\n",
        "\n",
        "  Args:\n",
        "    function: The scalar function.\n",
        "    variables: A list of symbolic variables.\n",
        "    direction_vector: The direction vector.\n",
        "\n",
        "  Returns:\n",
        "    The directional derivative.\n",
        "  \"\"\"\n",
        "  # Hint: Use the gradient function and the dot product."
      ],
      "metadata": {
        "id": "p82v1C-dWHLW"
      },
      "execution_count": null,
      "outputs": []
    },
    {
      "cell_type": "markdown",
      "source": [
        "## Exercise 4: Directional Derivatives\n",
        "\n",
        "Compute the directional derivative of the function of exercise 1, and the direction of the vector $\\vec{v}=(1,2,4)$"
      ],
      "metadata": {
        "id": "Si1s6Yj3Whue"
      }
    }
  ]
}