{
  "cells": [
    {
      "cell_type": "markdown",
      "metadata": {
        "id": "view-in-github",
        "colab_type": "text"
      },
      "source": [
        "<a href=\"https://colab.research.google.com/github/CarlosGordon/Calculus-II/blob/main/sympyGeneral.ipynb\" target=\"_parent\"><img src=\"https://colab.research.google.com/assets/colab-badge.svg\" alt=\"Open In Colab\"/></a>"
      ]
    },
    {
      "cell_type": "code",
      "execution_count": null,
      "metadata": {
        "id": "WivVAb6KS-aF"
      },
      "outputs": [],
      "source": [
        "import sympy as smp\n",
        "import numpy as np\n",
        "import matplotlib.pyplot as plt"
      ]
    },
    {
      "cell_type": "markdown",
      "metadata": {
        "id": "koJkPqqSS-aG"
      },
      "source": [
        "# Introduction"
      ]
    },
    {
      "cell_type": "markdown",
      "metadata": {
        "id": "jo5QL5GbS-aH"
      },
      "source": [
        "Symbols can be defined as follows:"
      ]
    },
    {
      "cell_type": "code",
      "execution_count": null,
      "metadata": {
        "id": "dnpm808XS-aH"
      },
      "outputs": [],
      "source": [
        "x = smp.symbols('x')"
      ]
    },
    {
      "cell_type": "markdown",
      "metadata": {
        "id": "i371YWAdS-aI"
      },
      "source": [
        "You can then use various mathematical operators on the defined symbols"
      ]
    },
    {
      "cell_type": "code",
      "execution_count": null,
      "metadata": {
        "id": "zps3SK-vS-aI",
        "outputId": "237f4f65-41a9-4575-e80d-eac40079b5b8"
      },
      "outputs": [
        {
          "data": {
            "text/latex": [
              "$\\displaystyle x^{2}$"
            ],
            "text/plain": [
              "x**2"
            ]
          },
          "execution_count": 6,
          "metadata": {},
          "output_type": "execute_result"
        }
      ],
      "source": [
        "x**2"
      ]
    },
    {
      "cell_type": "code",
      "execution_count": null,
      "metadata": {
        "id": "qhy7XAuzS-aI",
        "outputId": "af501f91-07f6-4e47-edd2-d7101ce4f396"
      },
      "outputs": [
        {
          "data": {
            "text/latex": [
              "$\\displaystyle \\sin{\\left(x \\right)}$"
            ],
            "text/plain": [
              "sin(x)"
            ]
          },
          "execution_count": 13,
          "metadata": {},
          "output_type": "execute_result"
        }
      ],
      "source": [
        "smp.sin(x)"
      ]
    },
    {
      "cell_type": "markdown",
      "metadata": {
        "id": "GNFl5A9VS-aJ"
      },
      "source": [
        "There are many many functions built into sympy"
      ]
    },
    {
      "cell_type": "code",
      "execution_count": null,
      "metadata": {
        "id": "LVmnz7n3S-aJ"
      },
      "outputs": [],
      "source": [
        "#smp."
      ]
    },
    {
      "cell_type": "markdown",
      "metadata": {
        "id": "BhxmDEITS-aJ"
      },
      "source": [
        "Can save expressions in new variables"
      ]
    },
    {
      "cell_type": "code",
      "execution_count": null,
      "metadata": {
        "id": "fYK17Jy2S-aK",
        "outputId": "75fed339-4376-406e-d911-b81c8bee0e80"
      },
      "outputs": [
        {
          "data": {
            "text/latex": [
              "$\\displaystyle x^{2} + 4 x + 3$"
            ],
            "text/plain": [
              "x**2 + 4*x + 3"
            ]
          },
          "execution_count": 15,
          "metadata": {},
          "output_type": "execute_result"
        }
      ],
      "source": [
        "y = x**2 + 4*x + 3\n",
        "y"
      ]
    },
    {
      "cell_type": "markdown",
      "metadata": {
        "id": "eS953T4rS-aK"
      },
      "source": [
        "Do operations on the new variables:"
      ]
    },
    {
      "cell_type": "code",
      "execution_count": null,
      "metadata": {
        "id": "BSbn4LYuS-aK",
        "outputId": "e8be2461-c4c2-4433-aee7-3aca87e8ef8a"
      },
      "outputs": [
        {
          "data": {
            "text/latex": [
              "$\\displaystyle \\left(x^{2} + 4 x + 3\\right)^{2}$"
            ],
            "text/plain": [
              "(x**2 + 4*x + 3)**2"
            ]
          },
          "execution_count": 16,
          "metadata": {},
          "output_type": "execute_result"
        }
      ],
      "source": [
        "z = y**2\n",
        "z"
      ]
    },
    {
      "cell_type": "markdown",
      "metadata": {
        "id": "Xr8R4MWfS-aK"
      },
      "source": [
        "Note that it doesn't expand. There are different methods you need to call to do different things with the expression:"
      ]
    },
    {
      "cell_type": "code",
      "execution_count": null,
      "metadata": {
        "id": "8uZ9FRyuS-aL",
        "outputId": "b2862133-225e-4aa4-8b09-c1a99f10d6c4"
      },
      "outputs": [
        {
          "data": {
            "text/latex": [
              "$\\displaystyle \\left(x + 1\\right)^{2} \\left(x + 3\\right)^{2}$"
            ],
            "text/plain": [
              "(x + 1)**2*(x + 3)**2"
            ]
          },
          "execution_count": 17,
          "metadata": {},
          "output_type": "execute_result"
        }
      ],
      "source": [
        "z.factor()"
      ]
    },
    {
      "cell_type": "markdown",
      "metadata": {
        "id": "p7s7IkocS-aL"
      },
      "source": [
        "In the notation `smp.solve(f,x)`, sympy finds the value of $x$ that makes $f(x)=0$."
      ]
    },
    {
      "cell_type": "code",
      "execution_count": null,
      "metadata": {
        "id": "JraoR0BhS-aL",
        "outputId": "34584f83-db01-4c19-c543-80399cbd74b2"
      },
      "outputs": [
        {
          "data": {
            "text/plain": [
              "[-3, -1]"
            ]
          },
          "execution_count": 23,
          "metadata": {},
          "output_type": "execute_result"
        }
      ],
      "source": [
        "smp.solve(z,x)"
      ]
    },
    {
      "cell_type": "code",
      "execution_count": null,
      "metadata": {
        "id": "VxGRJFLbS-aL",
        "outputId": "80388411-650f-42a1-8491-7a635b9a6ece"
      },
      "outputs": [
        {
          "data": {
            "text/plain": [
              "[0, pi]"
            ]
          },
          "execution_count": 24,
          "metadata": {},
          "output_type": "execute_result"
        }
      ],
      "source": [
        "smp.solve(smp.sin(x), x)"
      ]
    },
    {
      "cell_type": "markdown",
      "metadata": {
        "id": "mK9c_zGqS-aL"
      },
      "source": [
        "**Good Practice**: If you know that your variable $x$ is real (and in some cases non-negative) it's good to specify this when you define your variables to prevent complicated issues when solving complicated problems (especially with integrals)."
      ]
    },
    {
      "cell_type": "code",
      "execution_count": null,
      "metadata": {
        "id": "-z-lavB8S-aM",
        "outputId": "acf72d36-06a0-45a0-8f55-1819f6e4b268"
      },
      "outputs": [
        {
          "data": {
            "text/plain": [
              "[-I, I]"
            ]
          },
          "execution_count": 25,
          "metadata": {},
          "output_type": "execute_result"
        }
      ],
      "source": [
        "x = smp.symbols('x')\n",
        "smp.solve(x**2+1, x)"
      ]
    },
    {
      "cell_type": "code",
      "execution_count": null,
      "metadata": {
        "id": "_TPc_6KXS-aM",
        "outputId": "58cef256-4f70-4255-fe9a-d91af79122d2"
      },
      "outputs": [
        {
          "data": {
            "text/plain": [
              "[]"
            ]
          },
          "execution_count": 29,
          "metadata": {},
          "output_type": "execute_result"
        }
      ],
      "source": [
        "x = smp.symbols('x', real=True, positive=True)\n",
        "smp.solve(x+4, x)"
      ]
    },
    {
      "cell_type": "markdown",
      "metadata": {
        "id": "Z_cPLbfFS-aM"
      },
      "source": [
        "Can define many variables at once"
      ]
    },
    {
      "cell_type": "code",
      "execution_count": null,
      "metadata": {
        "id": "m-YUgFmjS-aM",
        "outputId": "543bb476-9019-49ba-bb78-3a6779d5e79b"
      },
      "outputs": [
        {
          "data": {
            "text/latex": [
              "$\\displaystyle x^{2} + y \\sin{\\left(z \\right)}$"
            ],
            "text/plain": [
              "x**2 + y*sin(z)"
            ]
          },
          "execution_count": 30,
          "metadata": {},
          "output_type": "execute_result"
        }
      ],
      "source": [
        "x, y, z = smp.symbols('x y z')\n",
        "F = x**2+smp.sin(z)*y\n",
        "F"
      ]
    },
    {
      "cell_type": "markdown",
      "metadata": {
        "id": "m2CCjuArS-aN"
      },
      "source": [
        "Can also solve multivariable expressions, specifying which variable we want to solve for. In each case, $F=0$ is being solved for"
      ]
    },
    {
      "cell_type": "code",
      "execution_count": null,
      "metadata": {
        "id": "SPPdfxBLS-aN",
        "outputId": "3c56c6cc-79a9-45ca-f7de-0b11121e9beb"
      },
      "outputs": [
        {
          "data": {
            "text/plain": [
              "[-sqrt(-y*sin(z)), sqrt(-y*sin(z))]"
            ]
          },
          "execution_count": 31,
          "metadata": {},
          "output_type": "execute_result"
        }
      ],
      "source": [
        "x_sols = smp.solve(F, x)\n",
        "x_sols"
      ]
    },
    {
      "cell_type": "code",
      "execution_count": null,
      "metadata": {
        "id": "odXT-riSS-aN",
        "outputId": "f1bd0610-ddc0-41d5-d5a7-db398d33712f"
      },
      "outputs": [
        {
          "data": {
            "text/plain": [
              "[-x**2/sin(z)]"
            ]
          },
          "execution_count": 32,
          "metadata": {},
          "output_type": "execute_result"
        }
      ],
      "source": [
        "y_sols = smp.solve(F,y)\n",
        "y_sols"
      ]
    },
    {
      "cell_type": "code",
      "execution_count": null,
      "metadata": {
        "id": "yLPBPuMKS-aN",
        "outputId": "31cf0b17-d67c-47ad-ef37-0d573e825281"
      },
      "outputs": [
        {
          "data": {
            "text/plain": [
              "[asin(x**2/y) + pi, -asin(x**2/y)]"
            ]
          },
          "execution_count": 33,
          "metadata": {},
          "output_type": "execute_result"
        }
      ],
      "source": [
        "z_sols = smp.solve(F,z)\n",
        "z_sols"
      ]
    },
    {
      "cell_type": "markdown",
      "metadata": {
        "id": "n42RQ3czS-aN"
      },
      "source": [
        "Finally, it may be the case that one has a sympy expression but wants to convert it into a numerical function so they can plot on a computer"
      ]
    },
    {
      "cell_type": "code",
      "execution_count": null,
      "metadata": {
        "id": "qX-gVU8CS-aO",
        "outputId": "50b14467-8b8c-4bf3-ecda-7eb1c4f414e0"
      },
      "outputs": [
        {
          "data": {
            "text/latex": [
              "$\\displaystyle \\operatorname{asin}{\\left(\\frac{x^{2}}{y} \\right)} + \\pi$"
            ],
            "text/plain": [
              "asin(x**2/y) + pi"
            ]
          },
          "execution_count": 34,
          "metadata": {},
          "output_type": "execute_result"
        }
      ],
      "source": [
        "expr = z_sols[0]\n",
        "expr"
      ]
    },
    {
      "cell_type": "code",
      "execution_count": null,
      "metadata": {
        "id": "7GgdRCfTS-aO",
        "outputId": "1a4235fb-1825-4260-95ff-8dbc7751dd20"
      },
      "outputs": [
        {
          "data": {
            "text/plain": [
              "3.6651914291880923"
            ]
          },
          "execution_count": 35,
          "metadata": {},
          "output_type": "execute_result"
        }
      ],
      "source": [
        "expr_f = smp.lambdify([x,y], expr)\n",
        "expr_f(1,2)"
      ]
    },
    {
      "cell_type": "code",
      "execution_count": null,
      "metadata": {
        "id": "4Seu9nwdS-aO",
        "outputId": "d4f07455-d432-4660-f56f-bce14f26f7b7"
      },
      "outputs": [
        {
          "data": {
            "image/png": "[encoded data removed]",
            "text/plain": [
              "<Figure size 432x288 with 1 Axes>"
            ]
          },
          "metadata": {
            "needs_background": "light"
          },
          "output_type": "display_data"
        }
      ],
      "source": [
        "x_num = np.linspace(0,1,100)\n",
        "y_num = 2\n",
        "plt.plot(x_num, expr_f(x_num,y_num))\n",
        "plt.show()"
      ]
    },
    {
      "cell_type": "markdown",
      "metadata": {
        "id": "oNNPpBdQS-aP"
      },
      "source": [
        "For multivariable expressions, can also substitute values in"
      ]
    },
    {
      "cell_type": "code",
      "execution_count": null,
      "metadata": {
        "id": "c6C6VsdHS-aP",
        "outputId": "5fb68587-510f-44e2-de32-dcaab1ad41a7"
      },
      "outputs": [
        {
          "data": {
            "text/latex": [
              "$\\displaystyle x^{2} + y \\sin{\\left(z \\right)}$"
            ],
            "text/plain": [
              "x**2 + y*sin(z)"
            ]
          },
          "execution_count": 41,
          "metadata": {},
          "output_type": "execute_result"
        }
      ],
      "source": [
        "F"
      ]
    },
    {
      "cell_type": "code",
      "execution_count": null,
      "metadata": {
        "id": "kKawLF1xS-aP",
        "outputId": "84c9b15b-3f46-4eec-d371-32f92605a83a"
      },
      "outputs": [
        {
          "data": {
            "text/latex": [
              "$\\displaystyle x^{2} + \\sin{\\left(y \\right)} \\cos{\\left(y \\right)}$"
            ],
            "text/plain": [
              "x**2 + sin(y)*cos(y)"
            ]
          },
          "execution_count": 42,
          "metadata": {},
          "output_type": "execute_result"
        }
      ],
      "source": [
        "F.subs([(y,smp.cos(z)),(z,y)])"
      ]
    },
    {
      "cell_type": "markdown",
      "metadata": {
        "id": "JB3GhHrFS-aP"
      },
      "source": [
        "# Examples"
      ]
    },
    {
      "cell_type": "markdown",
      "metadata": {
        "id": "X4l0Y0khS-aQ"
      },
      "source": [
        "A falling object encounters a moving platform accelerating upwards:\n",
        "\n",
        "1. Object $h_o(t) = h_0 - v_o t - \\frac{1}{2}gt^2$\n",
        "2. Platform $h_p(t) = v_p t + \\frac{1}{2}qt^2$\n",
        "\n",
        "**Find the initial velocity $v_0$ such that when the object and platform collide, they are moving at the same speed.**\n",
        "\n",
        "We need to solve for $v_0$ and $t$ in the two equations\n",
        "\n",
        "1. $h_0(t) = h_p(t)$\n",
        "2. $ \\frac{dh_0}{dt} (t) = - \\frac{dh_p}{dt}(t) $\n",
        "\n",
        "In sympy, need to construct our system of equations as $EQ_1=0$, $EQ_2=0$, ... In our case, we rewrite them as\n",
        "\n",
        "1. $h_0(t) - h_p(t) = 0$\n",
        "2. $\\frac{dh_0}{dt} + \\frac{dh_p}{dt} = 0$"
      ]
    },
    {
      "cell_type": "code",
      "execution_count": null,
      "metadata": {
        "id": "MQ4B_R21S-aQ"
      },
      "outputs": [],
      "source": [
        "t, h0, v0, g, vp, q = smp.symbols('t h_0 v_0 g v_p q', real=True, positive=True)"
      ]
    },
    {
      "cell_type": "markdown",
      "metadata": {
        "id": "Ag7saXtYS-aQ"
      },
      "source": [
        "Define expressions"
      ]
    },
    {
      "cell_type": "code",
      "execution_count": null,
      "metadata": {
        "id": "gY_BAsDBS-aQ"
      },
      "outputs": [],
      "source": [
        "h0t = h0 - v0*t - smp.Rational(1,2)*g*t**2\n",
        "dh0dt = g*t - v0\n",
        "hpt = vp*t + smp.Rational(1,2)*q*t**2\n",
        "dhpdt = vp + q*t"
      ]
    },
    {
      "cell_type": "markdown",
      "metadata": {
        "id": "Q5YIzoEUS-aR"
      },
      "source": [
        "Define equations"
      ]
    },
    {
      "cell_type": "code",
      "execution_count": null,
      "metadata": {
        "id": "dg-2_v6jS-aR"
      },
      "outputs": [],
      "source": [
        "eq1 = h0t - hpt\n",
        "eq2 = dh0dt + dhpdt"
      ]
    },
    {
      "cell_type": "markdown",
      "metadata": {
        "id": "eCu6kL1US-aR"
      },
      "source": [
        "Solve the equations"
      ]
    },
    {
      "cell_type": "code",
      "execution_count": null,
      "metadata": {
        "id": "1piPcgSiS-aR",
        "outputId": "a66020a3-0851-40c9-8cd2-7b1bc754c0d3"
      },
      "outputs": [
        {
          "data": {
            "text/plain": [
              "((-2*v_p/3 + sqrt(2)*sqrt(3*g*h_0 + 3*h_0*q + 2*v_p**2)/3)/(g + q),\n",
              " v_p/3 + sqrt(2)*sqrt(3*g*h_0 + 3*h_0*q + 2*v_p**2)/3)"
            ]
          },
          "execution_count": 56,
          "metadata": {},
          "output_type": "execute_result"
        }
      ],
      "source": [
        "smp.solve([eq1, eq2], [t, v0])[0]"
      ]
    },
    {
      "cell_type": "code",
      "execution_count": null,
      "metadata": {
        "id": "KH4mw72cS-aR"
      },
      "outputs": [],
      "source": [
        "t_collide, v_initfall = smp.solve([eq1, eq2], [t, v0])[0]"
      ]
    },
    {
      "cell_type": "code",
      "execution_count": null,
      "metadata": {
        "id": "li-ZTiIZS-aS",
        "outputId": "a4028401-c46f-4fad-b9fb-9b9b8785616a"
      },
      "outputs": [
        {
          "data": {
            "text/latex": [
              "$\\displaystyle \\frac{v_{p}}{3} + \\frac{\\sqrt{2} \\sqrt{3 g h_{0} + 3 h_{0} q + 2 v_{p}^{2}}}{3}$"
            ],
            "text/plain": [
              "v_p/3 + sqrt(2)*sqrt(3*g*h_0 + 3*h_0*q + 2*v_p**2)/3"
            ]
          },
          "execution_count": 61,
          "metadata": {},
          "output_type": "execute_result"
        }
      ],
      "source": [
        "v_initfall"
      ]
    },
    {
      "cell_type": "code",
      "execution_count": null,
      "metadata": {
        "id": "Mal4cw8NS-aS",
        "outputId": "64c9f0f6-8d08-48fd-d9ae-2d41441ed673"
      },
      "outputs": [
        {
          "data": {
            "text/latex": [
              "$\\displaystyle \\frac{- \\frac{2 v_{p}}{3} + \\frac{\\sqrt{2} \\sqrt{3 g h_{0} + 3 h_{0} q + 2 v_{p}^{2}}}{3}}{g + q}$"
            ],
            "text/plain": [
              "(-2*v_p/3 + sqrt(2)*sqrt(3*g*h_0 + 3*h_0*q + 2*v_p**2)/3)/(g + q)"
            ]
          },
          "execution_count": 62,
          "metadata": {},
          "output_type": "execute_result"
        }
      ],
      "source": [
        "t_collide"
      ]
    },
    {
      "cell_type": "markdown",
      "metadata": {
        "id": "w_V25DkxS-aS"
      },
      "source": [
        "**What is the velocity when they collide?**"
      ]
    },
    {
      "cell_type": "code",
      "execution_count": null,
      "metadata": {
        "id": "ipoQaS0AS-aS",
        "outputId": "f7a26e10-6d35-4d07-dad3-32d7d17ad71e"
      },
      "outputs": [
        {
          "data": {
            "text/latex": [
              "$\\displaystyle - \\frac{g v_{p} + \\frac{q v_{p}}{3} + \\frac{q \\sqrt{6 g h_{0} + 6 h_{0} q + 4 v_{p}^{2}}}{3}}{g + q}$"
            ],
            "text/plain": [
              "-(g*v_p + q*v_p/3 + q*sqrt(6*g*h_0 + 6*h_0*q + 4*v_p**2)/3)/(g + q)"
            ]
          },
          "execution_count": 64,
          "metadata": {},
          "output_type": "execute_result"
        }
      ],
      "source": [
        "dh0dt.subs([(t,t_collide),(v0,v_initfall)]).simplify()"
      ]
    },
    {
      "cell_type": "code",
      "execution_count": null,
      "metadata": {
        "id": "PBxeNI3aS-aS",
        "outputId": "d6518a97-8b3b-4f55-d7a8-fe69cee3bce0"
      },
      "outputs": [
        {
          "data": {
            "text/latex": [
              "$\\displaystyle \\frac{g v_{p} + \\frac{q v_{p}}{3} + \\frac{q \\sqrt{6 g h_{0} + 6 h_{0} q + 4 v_{p}^{2}}}{3}}{g + q}$"
            ],
            "text/plain": [
              "(g*v_p + q*v_p/3 + q*sqrt(6*g*h_0 + 6*h_0*q + 4*v_p**2)/3)/(g + q)"
            ]
          },
          "execution_count": 65,
          "metadata": {},
          "output_type": "execute_result"
        }
      ],
      "source": [
        "dhpdt.subs([(t,t_collide),(v0,v_initfall)]).simplify()"
      ]
    },
    {
      "cell_type": "markdown",
      "metadata": {
        "id": "cCKKF496S-aS"
      },
      "source": [
        "# Calculus (1st year)"
      ]
    },
    {
      "cell_type": "code",
      "execution_count": 1,
      "metadata": {
        "id": "D6OqHhMPS-aT",
        "colab": {
          "base_uri": "https://localhost:8080/",
          "height": 141
        },
        "outputId": "660ddb44-fe3d-4222-a414-2af1cc6ada8d"
      },
      "outputs": [
        {
          "output_type": "error",
          "ename": "NameError",
          "evalue": "name 'smp' is not defined",
          "traceback": [
            "\u001b[0;31m---------------------------------------------------------------------------\u001b[0m",
            "\u001b[0;31mNameError\u001b[0m                                 Traceback (most recent call last)",
            "\u001b[0;32m<ipython-input-1-c8a6f7a2cf04>\u001b[0m in \u001b[0;36m<cell line: 1>\u001b[0;34m()\u001b[0m\n\u001b[0;32m----> 1\u001b[0;31m \u001b[0mx\u001b[0m \u001b[0;34m=\u001b[0m \u001b[0msmp\u001b[0m\u001b[0;34m.\u001b[0m\u001b[0msymbols\u001b[0m\u001b[0;34m(\u001b[0m\u001b[0;34m'x'\u001b[0m\u001b[0;34m)\u001b[0m\u001b[0;34m\u001b[0m\u001b[0;34m\u001b[0m\u001b[0m\n\u001b[0m",
            "\u001b[0;31mNameError\u001b[0m: name 'smp' is not defined"
          ]
        }
      ],
      "source": [
        "x = smp.symbols('x')"
      ]
    },
    {
      "cell_type": "markdown",
      "metadata": {
        "id": "vYT85zzuS-aT"
      },
      "source": [
        "## Limits"
      ]
    },
    {
      "cell_type": "markdown",
      "metadata": {
        "id": "X6RPzHySS-aT"
      },
      "source": [
        "$$\\lim_{x \\to \\pi} \\sin(x/2+ \\sin(x))$$"
      ]
    },
    {
      "cell_type": "code",
      "execution_count": null,
      "metadata": {
        "id": "Ti_dSZ2JS-aT"
      },
      "outputs": [],
      "source": [
        "smp.limit(smp.sin(x/2 + smp.sin(x)), x, smp.pi)"
      ]
    },
    {
      "cell_type": "markdown",
      "metadata": {
        "id": "2yF94XAgS-aT"
      },
      "source": [
        "## Derivatives"
      ]
    },
    {
      "cell_type": "markdown",
      "metadata": {
        "id": "PGpTB2IaS-aT"
      },
      "source": [
        "$$ \\frac{d}{dx} \\left( \\frac{1+\\sin x}{1 - \\cos x} \\right)^2 $$"
      ]
    },
    {
      "cell_type": "code",
      "execution_count": null,
      "metadata": {
        "id": "02bNNInrS-aT"
      },
      "outputs": [],
      "source": [
        "smp.diff(((1 + smp.sin(x)) / (1 - smp.cos(x)))**2, x)"
      ]
    },
    {
      "cell_type": "markdown",
      "metadata": {
        "id": "WpKTwGSPS-aU"
      },
      "source": [
        "$$\\frac{d}{dx} f(x+g(x)) $$"
      ]
    },
    {
      "cell_type": "code",
      "execution_count": null,
      "metadata": {
        "id": "84DfsMsJS-aU"
      },
      "outputs": [],
      "source": [
        "f, g = smp.symbols('f g', cls=smp.Function)"
      ]
    },
    {
      "cell_type": "code",
      "execution_count": null,
      "metadata": {
        "id": "P-BY2vl_S-aU"
      },
      "outputs": [],
      "source": [
        "f, g = smp.symbols('f g', cls=smp.Function)\n",
        "g = g(x)\n",
        "f = f(x+g)"
      ]
    },
    {
      "cell_type": "code",
      "execution_count": null,
      "metadata": {
        "id": "a9batTvLS-aU"
      },
      "outputs": [],
      "source": [
        "f"
      ]
    },
    {
      "cell_type": "code",
      "execution_count": null,
      "metadata": {
        "id": "TWPBTmk9S-aU"
      },
      "outputs": [],
      "source": [
        "dfdx = smp.diff(f,x)\n",
        "dfdx"
      ]
    },
    {
      "cell_type": "code",
      "execution_count": null,
      "metadata": {
        "id": "kydDF0_1S-aU"
      },
      "outputs": [],
      "source": [
        "dfdx.subs([(g, smp.sin(x))]).doit() # need to call doit"
      ]
    },
    {
      "cell_type": "markdown",
      "metadata": {
        "id": "3noVNiw7S-aU"
      },
      "source": [
        "## Basic Antiderivatives"
      ]
    },
    {
      "cell_type": "markdown",
      "metadata": {
        "id": "hsCoqMDlS-aU"
      },
      "source": [
        "$$ \\int \\csc(x) \\cot (x)  dx $$"
      ]
    },
    {
      "cell_type": "code",
      "execution_count": null,
      "metadata": {
        "id": "x0oI30mNS-aU"
      },
      "outputs": [],
      "source": [
        "smp.integrate(smp.csc(x)*smp.cot(x), x)"
      ]
    },
    {
      "cell_type": "markdown",
      "metadata": {
        "id": "yN10lRj9S-aU"
      },
      "source": [
        "## Definite Integrals"
      ]
    },
    {
      "cell_type": "markdown",
      "metadata": {
        "id": "D3JknlJRS-aV"
      },
      "source": [
        "$$\\int_{0}^{\\ln(4)}\\frac{e^x dt}{\\sqrt{e^{2x}+9}} $$"
      ]
    },
    {
      "cell_type": "code",
      "execution_count": null,
      "metadata": {
        "id": "4Ii5u7AlS-aV"
      },
      "outputs": [],
      "source": [
        "smp.integrate(smp.exp(x) / smp.sqrt(smp.exp(2*x) + 9), (x, 0, smp.log(4)))"
      ]
    },
    {
      "cell_type": "markdown",
      "metadata": {
        "id": "rO6Z5nUZS-aV"
      },
      "source": [
        "$$\\int_1^t x^{10} e^x dx $$"
      ]
    },
    {
      "cell_type": "code",
      "execution_count": null,
      "metadata": {
        "id": "0IUbXTEcS-aV"
      },
      "outputs": [],
      "source": [
        "t= smp.symbols('t')"
      ]
    },
    {
      "cell_type": "code",
      "execution_count": null,
      "metadata": {
        "id": "Hc0dORLZS-aV"
      },
      "outputs": [],
      "source": [
        "smp.integrate(x**10*smp.exp(x), (x, 1, t))"
      ]
    },
    {
      "cell_type": "markdown",
      "metadata": {
        "id": "HctA52trS-aa"
      },
      "source": [
        "# Multivariable Calculus"
      ]
    },
    {
      "cell_type": "code",
      "execution_count": null,
      "metadata": {
        "id": "9yGORs3bS-aa"
      },
      "outputs": [],
      "source": [
        "x, y, z, u1, u2, u3, v1, v2, v3, t = smp.symbols('x y z u_1 u_2 u_3 v_1 v_2 v_3 t')"
      ]
    },
    {
      "cell_type": "markdown",
      "metadata": {
        "id": "nQg0E4WYS-aa"
      },
      "source": [
        "## Vectors and Geometry"
      ]
    },
    {
      "cell_type": "code",
      "execution_count": null,
      "metadata": {
        "id": "rrcvqSQFS-aa"
      },
      "outputs": [],
      "source": [
        "u = smp.Matrix([u1,u2,u3])\n",
        "v = smp.Matrix([v1,v2,v3])"
      ]
    },
    {
      "cell_type": "markdown",
      "metadata": {
        "id": "hhWfaX2JS-aa"
      },
      "source": [
        "### Addition and multiplication"
      ]
    },
    {
      "cell_type": "code",
      "execution_count": null,
      "metadata": {
        "id": "GCHsif3nS-aa",
        "outputId": "f4720085-e0ad-4b2d-a43c-eef75449d268"
      },
      "outputs": [
        {
          "data": {
            "text/latex": [
              "$\\displaystyle \\left[\\begin{matrix}2 u_{1} + v_{1}\\\\2 u_{2} + v_{2}\\\\2 u_{3} + v_{3}\\end{matrix}\\right]$"
            ],
            "text/plain": [
              "Matrix([\n",
              "[2*u_1 + v_1],\n",
              "[2*u_2 + v_2],\n",
              "[2*u_3 + v_3]])"
            ]
          },
          "execution_count": 112,
          "metadata": {},
          "output_type": "execute_result"
        }
      ],
      "source": [
        "2*u+v"
      ]
    },
    {
      "cell_type": "markdown",
      "metadata": {
        "id": "EsJuYbb5S-aa"
      },
      "source": [
        "Dot product"
      ]
    },
    {
      "cell_type": "code",
      "execution_count": null,
      "metadata": {
        "id": "LWzInR1GS-ab",
        "outputId": "204f4959-2990-4281-bcb4-7dab30a93f37"
      },
      "outputs": [
        {
          "data": {
            "text/latex": [
              "$\\displaystyle u_{1} v_{1} + u_{2} v_{2} + u_{3} v_{3}$"
            ],
            "text/plain": [
              "u_1*v_1 + u_2*v_2 + u_3*v_3"
            ]
          },
          "execution_count": 113,
          "metadata": {},
          "output_type": "execute_result"
        }
      ],
      "source": [
        "u.dot(v)"
      ]
    },
    {
      "cell_type": "markdown",
      "metadata": {
        "id": "anjgSYotS-ab"
      },
      "source": [
        "Cross product"
      ]
    },
    {
      "cell_type": "code",
      "execution_count": null,
      "metadata": {
        "id": "6t-8C4CkS-ab",
        "outputId": "431e83e5-a4ca-427f-e6dc-86577ce88dee"
      },
      "outputs": [
        {
          "data": {
            "text/latex": [
              "$\\displaystyle \\left[\\begin{matrix}u_{2} v_{3} - u_{3} v_{2}\\\\- u_{1} v_{3} + u_{3} v_{1}\\\\u_{1} v_{2} - u_{2} v_{1}\\end{matrix}\\right]$"
            ],
            "text/plain": [
              "Matrix([\n",
              "[ u_2*v_3 - u_3*v_2],\n",
              "[-u_1*v_3 + u_3*v_1],\n",
              "[ u_1*v_2 - u_2*v_1]])"
            ]
          },
          "execution_count": 114,
          "metadata": {},
          "output_type": "execute_result"
        }
      ],
      "source": [
        "u.cross(v)"
      ]
    },
    {
      "cell_type": "markdown",
      "metadata": {
        "id": "SxCJ7kHLS-ab"
      },
      "source": [
        "Norm"
      ]
    },
    {
      "cell_type": "code",
      "execution_count": null,
      "metadata": {
        "id": "YAETcDEQS-ab",
        "outputId": "795e02e3-8d0e-4cd1-d961-5c1f83cf3b06"
      },
      "outputs": [
        {
          "data": {
            "text/latex": [
              "$\\displaystyle \\sqrt{\\left|{u_{1}}\\right|^{2} + \\left|{u_{2}}\\right|^{2} + \\left|{u_{3}}\\right|^{2}}$"
            ],
            "text/plain": [
              "sqrt(Abs(u_1)**2 + Abs(u_2)**2 + Abs(u_3)**2)"
            ]
          },
          "execution_count": 115,
          "metadata": {},
          "output_type": "execute_result"
        }
      ],
      "source": [
        "u.norm()"
      ]
    },
    {
      "cell_type": "markdown",
      "metadata": {
        "id": "v9MD5N-AS-ab"
      },
      "source": [
        "$\\text{proj}_v(u) = \\frac{u \\cdot v}{|v|^2} v$"
      ]
    },
    {
      "cell_type": "code",
      "execution_count": null,
      "metadata": {
        "id": "6vlHh5soS-ab",
        "outputId": "1441f39c-96e9-4f22-f42c-c4849cc4a774"
      },
      "outputs": [
        {
          "data": {
            "text/latex": [
              "$\\displaystyle \\left[\\begin{matrix}\\frac{v_{1} \\left(u_{1} v_{1} + u_{2} v_{2} + u_{3} v_{3}\\right)}{\\left|{v_{1}}\\right|^{2} + \\left|{v_{2}}\\right|^{2} + \\left|{v_{3}}\\right|^{2}}\\\\\\frac{v_{2} \\left(u_{1} v_{1} + u_{2} v_{2} + u_{3} v_{3}\\right)}{\\left|{v_{1}}\\right|^{2} + \\left|{v_{2}}\\right|^{2} + \\left|{v_{3}}\\right|^{2}}\\\\\\frac{v_{3} \\left(u_{1} v_{1} + u_{2} v_{2} + u_{3} v_{3}\\right)}{\\left|{v_{1}}\\right|^{2} + \\left|{v_{2}}\\right|^{2} + \\left|{v_{3}}\\right|^{2}}\\end{matrix}\\right]$"
            ],
            "text/plain": [
              "Matrix([\n",
              "[v_1*(u_1*v_1 + u_2*v_2 + u_3*v_3)/(Abs(v_1)**2 + Abs(v_2)**2 + Abs(v_3)**2)],\n",
              "[v_2*(u_1*v_1 + u_2*v_2 + u_3*v_3)/(Abs(v_1)**2 + Abs(v_2)**2 + Abs(v_3)**2)],\n",
              "[v_3*(u_1*v_1 + u_2*v_2 + u_3*v_3)/(Abs(v_1)**2 + Abs(v_2)**2 + Abs(v_3)**2)]])"
            ]
          },
          "execution_count": 116,
          "metadata": {},
          "output_type": "execute_result"
        }
      ],
      "source": [
        "proj_v_u = u.dot(v)/v.norm()**2 * v\n",
        "proj_v_u"
      ]
    },
    {
      "cell_type": "markdown",
      "metadata": {
        "id": "pLmG2L63S-ab"
      },
      "source": [
        "Lines: $\\vec{r}(t) = \\vec{r}_0 + t\\vec{v}$"
      ]
    },
    {
      "cell_type": "code",
      "execution_count": null,
      "metadata": {
        "id": "Lzf4iq4kS-ac",
        "outputId": "b6147901-143a-41c7-ee5c-eae2137f6339"
      },
      "outputs": [
        {
          "data": {
            "text/latex": [
              "$\\displaystyle \\left[\\begin{matrix}t + 1\\\\3 t + 1\\\\1 - t\\end{matrix}\\right]$"
            ],
            "text/plain": [
              "Matrix([\n",
              "[  t + 1],\n",
              "[3*t + 1],\n",
              "[  1 - t]])"
            ]
          },
          "execution_count": 117,
          "metadata": {},
          "output_type": "execute_result"
        }
      ],
      "source": [
        "r0 = smp.Matrix([1,1,1])\n",
        "v = smp.Matrix([1,3,-1])\n",
        "r = r0 + t*v\n",
        "r"
      ]
    },
    {
      "cell_type": "markdown",
      "metadata": {
        "id": "DD5G-SOkS-ac"
      },
      "source": [
        "Planes: $\\vec{n} \\cdot (P_0-\\left<x,y,z\\right>) = 0$"
      ]
    },
    {
      "cell_type": "code",
      "execution_count": null,
      "metadata": {
        "id": "XLX-L2pMS-ac",
        "outputId": "ecb2a6ef-43de-4c3a-cb9e-70a76f2fe9da"
      },
      "outputs": [
        {
          "data": {
            "text/latex": [
              "$\\displaystyle - x - y - z + 16$"
            ],
            "text/plain": [
              "-x - y - z + 16"
            ]
          },
          "execution_count": 118,
          "metadata": {},
          "output_type": "execute_result"
        }
      ],
      "source": [
        "P0 = smp.Matrix([4,4,8])\n",
        "r = smp.Matrix([x,y,z])\n",
        "n = smp.Matrix([1,1,1])\n",
        "n.dot(P0-r)"
      ]
    },
    {
      "cell_type": "markdown",
      "metadata": {
        "id": "e1y-QrusS-ad"
      },
      "source": [
        "## Vector Calculus"
      ]
    },
    {
      "cell_type": "markdown",
      "metadata": {
        "id": "Vv0l1foeS-ad"
      },
      "source": [
        "### Vector Derivatives"
      ]
    },
    {
      "cell_type": "code",
      "execution_count": 2,
      "metadata": {
        "id": "coNxzQUtS-ad",
        "outputId": "3e6afc8b-109a-4e68-a39d-51e482ef7653",
        "colab": {
          "base_uri": "https://localhost:8080/",
          "height": 159
        }
      },
      "outputs": [
        {
          "output_type": "error",
          "ename": "NameError",
          "evalue": "name 'smp' is not defined",
          "traceback": [
            "\u001b[0;31m---------------------------------------------------------------------------\u001b[0m",
            "\u001b[0;31mNameError\u001b[0m                                 Traceback (most recent call last)",
            "\u001b[0;32m<ipython-input-2-a4a2b29c368b>\u001b[0m in \u001b[0;36m<cell line: 1>\u001b[0;34m()\u001b[0m\n\u001b[0;32m----> 1\u001b[0;31m \u001b[0mr\u001b[0m \u001b[0;34m=\u001b[0m \u001b[0msmp\u001b[0m\u001b[0;34m.\u001b[0m\u001b[0mMatrix\u001b[0m\u001b[0;34m(\u001b[0m\u001b[0;34m[\u001b[0m\u001b[0;36m3\u001b[0m\u001b[0;34m*\u001b[0m\u001b[0mt\u001b[0m\u001b[0;34m,\u001b[0m \u001b[0msmp\u001b[0m\u001b[0;34m.\u001b[0m\u001b[0msin\u001b[0m\u001b[0;34m(\u001b[0m\u001b[0mt\u001b[0m\u001b[0;34m)\u001b[0m\u001b[0;34m,\u001b[0m \u001b[0mt\u001b[0m\u001b[0;34m**\u001b[0m\u001b[0;36m2\u001b[0m\u001b[0;34m]\u001b[0m\u001b[0;34m)\u001b[0m\u001b[0;34m\u001b[0m\u001b[0;34m\u001b[0m\u001b[0m\n\u001b[0m\u001b[1;32m      2\u001b[0m \u001b[0mr\u001b[0m\u001b[0;34m\u001b[0m\u001b[0;34m\u001b[0m\u001b[0m\n",
            "\u001b[0;31mNameError\u001b[0m: name 'smp' is not defined"
          ]
        }
      ],
      "source": [
        "r = smp.Matrix([3*t, smp.sin(t), t**2])\n",
        "r"
      ]
    },
    {
      "cell_type": "code",
      "execution_count": 3,
      "metadata": {
        "id": "50MZfrsdS-ad",
        "outputId": "e1f9f672-a505-40bf-9fae-80fde46ac3bd",
        "colab": {
          "base_uri": "https://localhost:8080/",
          "height": 141
        }
      },
      "outputs": [
        {
          "output_type": "error",
          "ename": "NameError",
          "evalue": "name 'smp' is not defined",
          "traceback": [
            "\u001b[0;31m---------------------------------------------------------------------------\u001b[0m",
            "\u001b[0;31mNameError\u001b[0m                                 Traceback (most recent call last)",
            "\u001b[0;32m<ipython-input-3-d30f0b44750f>\u001b[0m in \u001b[0;36m<cell line: 1>\u001b[0;34m()\u001b[0m\n\u001b[0;32m----> 1\u001b[0;31m \u001b[0msmp\u001b[0m\u001b[0;34m.\u001b[0m\u001b[0mdiff\u001b[0m\u001b[0;34m(\u001b[0m\u001b[0mr\u001b[0m\u001b[0;34m,\u001b[0m\u001b[0mt\u001b[0m\u001b[0;34m)\u001b[0m\u001b[0;34m\u001b[0m\u001b[0;34m\u001b[0m\u001b[0m\n\u001b[0m",
            "\u001b[0;31mNameError\u001b[0m: name 'smp' is not defined"
          ]
        }
      ],
      "source": [
        "smp.diff(r,t)"
      ]
    },
    {
      "cell_type": "markdown",
      "metadata": {
        "id": "_-szszLYS-ad"
      },
      "source": [
        "**Example:** Find the angle between the velocity and acceleration as a function of time $\\theta(t)$"
      ]
    },
    {
      "cell_type": "code",
      "execution_count": null,
      "metadata": {
        "id": "nXe91udRS-ad"
      },
      "outputs": [],
      "source": [
        "v = smp.diff(r,t)\n",
        "a = smp.diff(v,t)\n",
        "theta = smp.acos(v.dot(a)/(v.norm()*a.norm())).simplify()\n",
        "theta"
      ]
    },
    {
      "cell_type": "markdown",
      "metadata": {
        "id": "sM1unKBvS-ad"
      },
      "source": [
        "Find theta at $t=6$"
      ]
    },
    {
      "cell_type": "code",
      "execution_count": null,
      "metadata": {
        "id": "ug-Z5RYjS-ad"
      },
      "outputs": [],
      "source": [
        "theta.subs(t,6).evalf()"
      ]
    },
    {
      "cell_type": "markdown",
      "metadata": {
        "id": "atuVmLjNS-ad"
      },
      "source": [
        "### Vector Integrals\n",
        "\n",
        "(Note: Will not add the +C)"
      ]
    },
    {
      "cell_type": "code",
      "execution_count": null,
      "metadata": {
        "id": "aQ7VJV-1S-ad"
      },
      "outputs": [],
      "source": [
        "r = smp.Matrix([smp.exp(t)*smp.cos(t), t**4, 1/(1+t**2)])\n",
        "r"
      ]
    },
    {
      "cell_type": "code",
      "execution_count": null,
      "metadata": {
        "id": "AWJjWR5ZS-ad"
      },
      "outputs": [],
      "source": [
        "smp.Integral(r,t).doit()"
      ]
    },
    {
      "cell_type": "markdown",
      "metadata": {
        "id": "_koXptNxS-ae"
      },
      "source": [
        "Some cases integrals can't be solved analytically"
      ]
    },
    {
      "cell_type": "code",
      "execution_count": null,
      "metadata": {
        "id": "nTknBPBAS-ae"
      },
      "outputs": [],
      "source": [
        "from scipy.integrate import quad_vec"
      ]
    },
    {
      "cell_type": "code",
      "execution_count": null,
      "metadata": {
        "id": "5IwZ4EVuS-ae"
      },
      "outputs": [],
      "source": [
        "r = smp.Matrix([smp.exp(t**2)*smp.cos(t)**3, smp.exp(-t**4), 1/(3+t**2)])\n",
        "r"
      ]
    },
    {
      "cell_type": "code",
      "execution_count": null,
      "metadata": {
        "id": "5Kl0smWyS-ae"
      },
      "outputs": [],
      "source": [
        "r_f = smp.lambdify([t], r)"
      ]
    },
    {
      "cell_type": "code",
      "execution_count": null,
      "metadata": {
        "id": "5sHekpv9S-ae"
      },
      "outputs": [],
      "source": [
        "from scipy.integrate import quad_vec\n",
        "r = smp.Matrix([smp.exp(t**2)*smp.cos(t)**3, smp.exp(-t**4), 1/(3+t**2)])\n",
        "r_f = smp.lambdify([t], r)\n",
        "quad_vec(r_f, 0, 1)[0]"
      ]
    },
    {
      "cell_type": "markdown",
      "metadata": {
        "id": "jkmdP6G7S-ae"
      },
      "source": [
        "### Arclength\n",
        "\n",
        "$$L = \\int_a^b \\sqrt{dx^2 + dy^2 + dz^2} = \\int_a^b \\sqrt{(dx/dt)^2 + (dy/dt)^2 + (dz/dt)^2 } dt $$"
      ]
    },
    {
      "cell_type": "markdown",
      "metadata": {
        "id": "BVX2ArOcS-ae"
      },
      "source": [
        "Rare Cases can be done symbolically. Find arclength of $\\left< 0, t, t^2 \\right>$ from $t=0$ to $t=1$"
      ]
    },
    {
      "cell_type": "code",
      "execution_count": null,
      "metadata": {
        "id": "MrKuUTAaS-ae"
      },
      "outputs": [],
      "source": [
        "r = smp.Matrix([0, t, t**2])\n",
        "r"
      ]
    },
    {
      "cell_type": "code",
      "execution_count": 4,
      "metadata": {
        "id": "IwQ1wbQlS-ae",
        "outputId": "6e36ded6-a485-4fc6-c911-f09f196d2b4a",
        "colab": {
          "base_uri": "https://localhost:8080/",
          "height": 159
        }
      },
      "outputs": [
        {
          "output_type": "error",
          "ename": "NameError",
          "evalue": "name 'smp' is not defined",
          "traceback": [
            "\u001b[0;31m---------------------------------------------------------------------------\u001b[0m",
            "\u001b[0;31mNameError\u001b[0m                                 Traceback (most recent call last)",
            "\u001b[0;32m<ipython-input-4-19e3d51368e8>\u001b[0m in \u001b[0;36m<cell line: 1>\u001b[0;34m()\u001b[0m\n\u001b[0;32m----> 1\u001b[0;31m \u001b[0mr\u001b[0m \u001b[0;34m=\u001b[0m \u001b[0msmp\u001b[0m\u001b[0;34m.\u001b[0m\u001b[0mMatrix\u001b[0m\u001b[0;34m(\u001b[0m\u001b[0;34m[\u001b[0m\u001b[0;36m0\u001b[0m\u001b[0;34m,\u001b[0m \u001b[0mt\u001b[0m\u001b[0;34m,\u001b[0m \u001b[0mt\u001b[0m\u001b[0;34m**\u001b[0m\u001b[0;36m2\u001b[0m\u001b[0;34m]\u001b[0m\u001b[0;34m)\u001b[0m\u001b[0;34m\u001b[0m\u001b[0;34m\u001b[0m\u001b[0m\n\u001b[0m\u001b[1;32m      2\u001b[0m \u001b[0msmp\u001b[0m\u001b[0;34m.\u001b[0m\u001b[0mintegrate\u001b[0m\u001b[0;34m(\u001b[0m\u001b[0msmp\u001b[0m\u001b[0;34m.\u001b[0m\u001b[0mdiff\u001b[0m\u001b[0;34m(\u001b[0m\u001b[0mr\u001b[0m\u001b[0;34m,\u001b[0m\u001b[0mt\u001b[0m\u001b[0;34m)\u001b[0m\u001b[0;34m.\u001b[0m\u001b[0mnorm\u001b[0m\u001b[0;34m(\u001b[0m\u001b[0;34m)\u001b[0m\u001b[0;34m,\u001b[0m \u001b[0;34m(\u001b[0m\u001b[0mt\u001b[0m\u001b[0;34m,\u001b[0m\u001b[0;36m0\u001b[0m\u001b[0;34m,\u001b[0m\u001b[0;36m1\u001b[0m\u001b[0;34m)\u001b[0m\u001b[0;34m)\u001b[0m\u001b[0;34m\u001b[0m\u001b[0;34m\u001b[0m\u001b[0m\n",
            "\u001b[0;31mNameError\u001b[0m: name 'smp' is not defined"
          ]
        }
      ],
      "source": [
        "r = smp.Matrix([0, t, t**2])\n",
        "smp.integrate(smp.diff(r,t).norm(), (t,0,1))"
      ]
    },
    {
      "cell_type": "markdown",
      "metadata": {
        "id": "e8xZlzz0S-af"
      },
      "source": [
        "# Examples\n",
        "\n",
        "The magnetic field at a point $\\vec{r}$ of a current configuration is\n",
        "\n",
        "$$\\vec{B}(\\vec{r}) = \\frac{\\mu_0}{4\\pi}\\int_t \\frac{I \\frac{d\\vec{\\ell}}{dt} \\times (\\vec{r}-\\vec{\\ell})}{|\\vec{r}-\\vec{\\ell}|^3} dt $$\n",
        "\n",
        "where $\\vec{r} = (x,y,z)$ and $\\vec{l} = (f(t), g(t), h(t))$ is a 1D curve in space that gives the location of the wire.\n",
        "\n",
        "**Part 1: Use Sympy to find the integrand as a single 3-vector**"
      ]
    },
    {
      "cell_type": "code",
      "execution_count": null,
      "metadata": {
        "id": "Oay7RIaPS-af"
      },
      "outputs": [],
      "source": [
        "x, y, z, t, I, mu0 = smp.symbols('x y z t I \\mu_0', real=True)\n",
        "f, g, h = smp.symbols('f g h', cls=smp.Function)\n",
        "f=f(t)\n",
        "g=g(t)\n",
        "h=h(t)"
      ]
    },
    {
      "cell_type": "markdown",
      "metadata": {
        "id": "1-s5DkBAS-af"
      },
      "source": [
        "Define $\\vec{r}$, $\\vec{\\ell}$ and $\\vec{d\\ell/dt}$"
      ]
    },
    {
      "cell_type": "code",
      "execution_count": null,
      "metadata": {
        "id": "CnXjMg7YS-af"
      },
      "outputs": [],
      "source": [
        "r = smp.Matrix([x,y,z])\n",
        "l = smp.Matrix([f,g,h])\n",
        "dldt = smp.diff(l)"
      ]
    },
    {
      "cell_type": "markdown",
      "metadata": {
        "id": "bFvxhlwBS-af"
      },
      "source": [
        "Define integrand"
      ]
    },
    {
      "cell_type": "code",
      "execution_count": null,
      "metadata": {
        "id": "b8c0Sc1PS-af"
      },
      "outputs": [],
      "source": [
        "dBdt = I * dldt.cross(r-l) / (r-l).norm()**3"
      ]
    },
    {
      "cell_type": "code",
      "execution_count": null,
      "metadata": {
        "id": "BV3M3bWmS-af",
        "outputId": "d464bc93-6e00-4927-f15e-7e5d6c2d7b5f"
      },
      "outputs": [
        {
          "data": {
            "text/latex": [
              "$\\displaystyle \\left[\\begin{matrix}\\frac{I \\left(- \\left(y - g{\\left(t \\right)}\\right) \\frac{d}{d t} h{\\left(t \\right)} + \\left(z - h{\\left(t \\right)}\\right) \\frac{d}{d t} g{\\left(t \\right)}\\right)}{\\left(\\left|{x - f{\\left(t \\right)}}\\right|^{2} + \\left|{y - g{\\left(t \\right)}}\\right|^{2} + \\left|{z - h{\\left(t \\right)}}\\right|^{2}\\right)^{\\frac{3}{2}}}\\\\\\frac{I \\left(\\left(x - f{\\left(t \\right)}\\right) \\frac{d}{d t} h{\\left(t \\right)} - \\left(z - h{\\left(t \\right)}\\right) \\frac{d}{d t} f{\\left(t \\right)}\\right)}{\\left(\\left|{x - f{\\left(t \\right)}}\\right|^{2} + \\left|{y - g{\\left(t \\right)}}\\right|^{2} + \\left|{z - h{\\left(t \\right)}}\\right|^{2}\\right)^{\\frac{3}{2}}}\\\\\\frac{I \\left(- \\left(x - f{\\left(t \\right)}\\right) \\frac{d}{d t} g{\\left(t \\right)} + \\left(y - g{\\left(t \\right)}\\right) \\frac{d}{d t} f{\\left(t \\right)}\\right)}{\\left(\\left|{x - f{\\left(t \\right)}}\\right|^{2} + \\left|{y - g{\\left(t \\right)}}\\right|^{2} + \\left|{z - h{\\left(t \\right)}}\\right|^{2}\\right)^{\\frac{3}{2}}}\\end{matrix}\\right]$"
            ],
            "text/plain": [
              "Matrix([\n",
              "[I*(-(y - g(t))*Derivative(h(t), t) + (z - h(t))*Derivative(g(t), t))/(Abs(x - f(t))**2 + Abs(y - g(t))**2 + Abs(z - h(t))**2)**(3/2)],\n",
              "[ I*((x - f(t))*Derivative(h(t), t) - (z - h(t))*Derivative(f(t), t))/(Abs(x - f(t))**2 + Abs(y - g(t))**2 + Abs(z - h(t))**2)**(3/2)],\n",
              "[I*(-(x - f(t))*Derivative(g(t), t) + (y - g(t))*Derivative(f(t), t))/(Abs(x - f(t))**2 + Abs(y - g(t))**2 + Abs(z - h(t))**2)**(3/2)]])"
            ]
          },
          "execution_count": 191,
          "metadata": {},
          "output_type": "execute_result"
        }
      ],
      "source": [
        "dBdt"
      ]
    },
    {
      "cell_type": "markdown",
      "metadata": {
        "id": "lt0kzUu_S-af"
      },
      "source": [
        "**Part 2**: Find the magnetic field a distance $H$ above a ring of radius $R$ flowing clockwise"
      ]
    },
    {
      "cell_type": "code",
      "execution_count": null,
      "metadata": {
        "id": "f7KjKUA0S-ag"
      },
      "outputs": [],
      "source": [
        "R, H = smp.symbols('R, H', real=True)"
      ]
    },
    {
      "cell_type": "code",
      "execution_count": null,
      "metadata": {
        "id": "yy_cHw1tS-ag",
        "outputId": "9d240a7d-b08a-4548-eefd-8ae0d22bbdc1"
      },
      "outputs": [
        {
          "data": {
            "text/latex": [
              "$\\displaystyle \\left[\\begin{matrix}\\frac{H I R \\cos{\\left(t \\right)}}{\\left(H^{2} + R^{2}\\right)^{\\frac{3}{2}}}\\\\\\frac{H I R \\sin{\\left(t \\right)}}{\\left(H^{2} + R^{2}\\right)^{\\frac{3}{2}}}\\\\\\frac{I R^{2}}{\\left(H^{2} + R^{2}\\right)^{\\frac{3}{2}}}\\end{matrix}\\right]$"
            ],
            "text/plain": [
              "Matrix([\n",
              "[H*I*R*cos(t)/(H**2 + R**2)**(3/2)],\n",
              "[H*I*R*sin(t)/(H**2 + R**2)**(3/2)],\n",
              "[      I*R**2/(H**2 + R**2)**(3/2)]])"
            ]
          },
          "execution_count": 193,
          "metadata": {},
          "output_type": "execute_result"
        }
      ],
      "source": [
        "dBdt = dBdt.subs([(f, R*smp.cos(t)),\n",
        "                  (g, R*smp.sin(t)),\n",
        "                  (h, 0),\n",
        "                  (x,0), (y,0), (z,H)]).doit()\n",
        "dBdt.simplify()\n",
        "dBdt"
      ]
    },
    {
      "cell_type": "markdown",
      "metadata": {
        "id": "l97kXtwJS-ag"
      },
      "source": [
        "Find magnetic field"
      ]
    },
    {
      "cell_type": "code",
      "execution_count": null,
      "metadata": {
        "id": "tqn9Ow1CS-ag",
        "outputId": "82bf2ad2-5f02-47d3-ffae-faa751d682ee"
      },
      "outputs": [
        {
          "data": {
            "text/latex": [
              "$\\displaystyle \\left[\\begin{matrix}0\\\\0\\\\\\frac{I R^{2} \\mu_0}{2 \\left(H^{2} + R^{2}\\right)^{\\frac{3}{2}}}\\end{matrix}\\right]$"
            ],
            "text/plain": [
              "Matrix([\n",
              "[                                    0],\n",
              "[                                    0],\n",
              "[I*R**2*\\mu_0/(2*(H**2 + R**2)**(3/2))]])"
            ]
          },
          "execution_count": 194,
          "metadata": {},
          "output_type": "execute_result"
        }
      ],
      "source": [
        "mu0/(4*smp.pi) * smp.integrate(dBdt, [t,0,2*smp.pi])"
      ]
    },
    {
      "cell_type": "markdown",
      "metadata": {
        "id": "6OokD4AmS-ag"
      },
      "source": [
        "For more ccomplicated electrical wire configurations, see my video on solving for the magnetic field of an arbtriary wire (uses numerical integration)"
      ]
    },
    {
      "cell_type": "markdown",
      "metadata": {
        "id": "tFJmaQInS-ag"
      },
      "source": [
        "## Partial/Directional Derivatives"
      ]
    },
    {
      "cell_type": "code",
      "execution_count": null,
      "metadata": {
        "id": "OmEybgadS-ag"
      },
      "outputs": [],
      "source": [
        "x, y, z = smp.symbols('x y z')"
      ]
    },
    {
      "cell_type": "markdown",
      "metadata": {
        "id": "gA5MW0dOS-ag"
      },
      "source": [
        "### Basics"
      ]
    },
    {
      "cell_type": "markdown",
      "metadata": {
        "id": "_zEez1rnS-ag"
      },
      "source": [
        "Partial Derivatives $\\partial f / \\partial x$ and $\\partial f / \\partial y$ of $f(x,y)=y^2\\sin(x+y)$"
      ]
    },
    {
      "cell_type": "code",
      "execution_count": null,
      "metadata": {
        "id": "zp0GJTTSS-ag",
        "outputId": "e5d5c017-4e1c-409c-ed81-eca068864433"
      },
      "outputs": [
        {
          "data": {
            "text/latex": [
              "$\\displaystyle y^{2} \\cos{\\left(x + y \\right)}$"
            ],
            "text/plain": [
              "y**2*cos(x + y)"
            ]
          },
          "execution_count": 157,
          "metadata": {},
          "output_type": "execute_result"
        }
      ],
      "source": [
        "f = y**2 * smp.sin(x+y)\n",
        "smp.diff(f,x)"
      ]
    },
    {
      "cell_type": "code",
      "execution_count": null,
      "metadata": {
        "id": "uJeBgboMS-ai",
        "outputId": "c3a8f80e-bef9-4f7d-f959-cc6046b33f42"
      },
      "outputs": [
        {
          "data": {
            "text/latex": [
              "$\\displaystyle y^{2} \\cos{\\left(x + y \\right)} + 2 y \\sin{\\left(x + y \\right)}$"
            ],
            "text/plain": [
              "y**2*cos(x + y) + 2*y*sin(x + y)"
            ]
          },
          "execution_count": 158,
          "metadata": {},
          "output_type": "execute_result"
        }
      ],
      "source": [
        "smp.diff(f,y)"
      ]
    },
    {
      "cell_type": "markdown",
      "metadata": {
        "id": "-_q1Q4vJS-aj"
      },
      "source": [
        "Or more complicated things like $\\frac{\\partial^3 f}{\\partial xy^2}$"
      ]
    },
    {
      "cell_type": "code",
      "execution_count": null,
      "metadata": {
        "id": "MCHXpmrhS-aj",
        "outputId": "d170a2a7-3860-46c8-99de-0e57a355ecd6"
      },
      "outputs": [
        {
          "data": {
            "text/latex": [
              "$\\displaystyle - y^{2} \\cos{\\left(x + y \\right)} - 4 y \\sin{\\left(x + y \\right)} + 2 \\cos{\\left(x + y \\right)}$"
            ],
            "text/plain": [
              "-y**2*cos(x + y) - 4*y*sin(x + y) + 2*cos(x + y)"
            ]
          },
          "execution_count": 159,
          "metadata": {},
          "output_type": "execute_result"
        }
      ],
      "source": [
        "smp.diff(f,y,y,x)"
      ]
    },
    {
      "cell_type": "markdown",
      "metadata": {
        "id": "EZVrTORCS-aj"
      },
      "source": [
        "### The Chain Rule"
      ]
    },
    {
      "cell_type": "code",
      "execution_count": null,
      "metadata": {
        "id": "w6ziDW7NS-aj"
      },
      "outputs": [],
      "source": [
        "t = smp.symbols('t')\n",
        "x, y, z, w, v =smp.symbols('x, y, z w v', cls=smp.Function)"
      ]
    },
    {
      "cell_type": "markdown",
      "metadata": {
        "id": "7lHOB35wS-aj"
      },
      "source": [
        "* Suppose $x$, $y$, and $z$ are functions of $t$\n",
        "* $w$ is a function of $x$, $y$, and $z$. i.e $w=w(x,y,z)$\n",
        "\n",
        "Find $dw/dt$"
      ]
    },
    {
      "cell_type": "code",
      "execution_count": null,
      "metadata": {
        "id": "F6E5KrCtS-aj"
      },
      "outputs": [],
      "source": [
        "x = x(t)\n",
        "y = y(t)\n",
        "z = z(t)\n",
        "w = w(x, y, z)"
      ]
    },
    {
      "cell_type": "code",
      "execution_count": null,
      "metadata": {
        "id": "C7MrAyQXS-aj",
        "outputId": "89f86c74-d76b-4783-8edb-5c772589f522"
      },
      "outputs": [
        {
          "data": {
            "text/latex": [
              "$\\displaystyle w{\\left(x{\\left(t \\right)},y{\\left(t \\right)},z{\\left(t \\right)} \\right)}$"
            ],
            "text/plain": [
              "w(x(t), y(t), z(t))"
            ]
          },
          "execution_count": 162,
          "metadata": {},
          "output_type": "execute_result"
        }
      ],
      "source": [
        "w"
      ]
    },
    {
      "cell_type": "markdown",
      "metadata": {
        "id": "789C4ozmS-aj"
      },
      "source": [
        "Can keep things in a more functional form:"
      ]
    },
    {
      "cell_type": "code",
      "execution_count": null,
      "metadata": {
        "id": "uM5s9a6CS-ak",
        "outputId": "762fcfc4-5843-4b55-9698-32d082511803"
      },
      "outputs": [
        {
          "data": {
            "text/latex": [
              "$\\displaystyle \\frac{d}{d x{\\left(t \\right)}} w{\\left(x{\\left(t \\right)},y{\\left(t \\right)},z{\\left(t \\right)} \\right)} \\frac{d}{d t} x{\\left(t \\right)} + \\frac{d}{d y{\\left(t \\right)}} w{\\left(x{\\left(t \\right)},y{\\left(t \\right)},z{\\left(t \\right)} \\right)} \\frac{d}{d t} y{\\left(t \\right)} + \\frac{d}{d z{\\left(t \\right)}} w{\\left(x{\\left(t \\right)},y{\\left(t \\right)},z{\\left(t \\right)} \\right)} \\frac{d}{d t} z{\\left(t \\right)}$"
            ],
            "text/plain": [
              "Derivative(w(x(t), y(t), z(t)), x(t))*Derivative(x(t), t) + Derivative(w(x(t), y(t), z(t)), y(t))*Derivative(y(t), t) + Derivative(w(x(t), y(t), z(t)), z(t))*Derivative(z(t), t)"
            ]
          },
          "execution_count": 163,
          "metadata": {},
          "output_type": "execute_result"
        }
      ],
      "source": [
        "smp.diff(w,t)"
      ]
    },
    {
      "cell_type": "markdown",
      "metadata": {
        "id": "2rI8_LVSS-ak"
      },
      "source": [
        "Or put in specific functions:"
      ]
    },
    {
      "cell_type": "code",
      "execution_count": null,
      "metadata": {
        "id": "HCt7_lMgS-ak"
      },
      "outputs": [],
      "source": [
        "w1 = x**2+smp.exp(y)*smp.sin(z)"
      ]
    },
    {
      "cell_type": "code",
      "execution_count": null,
      "metadata": {
        "id": "m5ETdLudS-ak",
        "outputId": "8e93dc58-4935-4537-9389-a1a3ab94b9f4"
      },
      "outputs": [
        {
          "data": {
            "text/latex": [
              "$\\displaystyle 2 x{\\left(t \\right)} \\frac{d}{d t} x{\\left(t \\right)} + e^{y{\\left(t \\right)}} \\sin{\\left(z{\\left(t \\right)} \\right)} \\frac{d}{d t} y{\\left(t \\right)} + e^{y{\\left(t \\right)}} \\cos{\\left(z{\\left(t \\right)} \\right)} \\frac{d}{d t} z{\\left(t \\right)}$"
            ],
            "text/plain": [
              "2*x(t)*Derivative(x(t), t) + exp(y(t))*sin(z(t))*Derivative(y(t), t) + exp(y(t))*cos(z(t))*Derivative(z(t), t)"
            ]
          },
          "execution_count": 167,
          "metadata": {},
          "output_type": "execute_result"
        }
      ],
      "source": [
        "smp.diff(w1,t)"
      ]
    },
    {
      "cell_type": "code",
      "execution_count": null,
      "metadata": {
        "id": "-E_RjYWIS-ak",
        "outputId": "9d2c8c53-85d1-4a20-9f8f-5e9db7560c33"
      },
      "outputs": [
        {
          "data": {
            "text/latex": [
              "$\\displaystyle 2 t e^{\\cos{\\left(t \\right)}} \\cos{\\left(t^{2} \\right)} - e^{\\cos{\\left(t \\right)}} \\sin{\\left(t \\right)} \\sin{\\left(t^{2} \\right)} + 2 \\sin{\\left(t \\right)} \\cos{\\left(t \\right)}$"
            ],
            "text/plain": [
              "2*t*exp(cos(t))*cos(t**2) - exp(cos(t))*sin(t)*sin(t**2) + 2*sin(t)*cos(t)"
            ]
          },
          "execution_count": 168,
          "metadata": {},
          "output_type": "execute_result"
        }
      ],
      "source": [
        "w1 = x**2+smp.exp(y)*smp.sin(z)\n",
        "smp.diff(w1,t).subs([(x, smp.sin(t)),\n",
        "                    (y, smp.cos(t)),\n",
        "                    (z, t**2)]).doit()"
      ]
    },
    {
      "cell_type": "markdown",
      "metadata": {
        "id": "icGvSEvWS-ak"
      },
      "source": [
        "## Multiple Integrals"
      ]
    },
    {
      "cell_type": "markdown",
      "metadata": {
        "id": "cUonKmsGS-ak"
      },
      "source": [
        "In rare cases these can be done symbolically:\n",
        "\n",
        "$$\\int_0^1 \\int_0^{1-x^2} \\int_3^{4-x^2-y^2} xdzdydx$$"
      ]
    },
    {
      "cell_type": "code",
      "execution_count": null,
      "metadata": {
        "id": "Xd30GvMYS-al",
        "outputId": "cd89f17b-f9c1-4b7c-cf80-047104da1f59"
      },
      "outputs": [
        {
          "data": {
            "text/latex": [
              "$\\displaystyle \\frac{1}{8}$"
            ],
            "text/plain": [
              "1/8"
            ]
          },
          "execution_count": 169,
          "metadata": {},
          "output_type": "execute_result"
        }
      ],
      "source": [
        "x, y, z = smp.symbols('x, y, z')\n",
        "f = x\n",
        "smp.integrate(f, (z, 3, 4-x**2-y**2), (y, 0, 1-x**2), (x, 0, 1))"
      ]
    }
  ],
  "metadata": {
    "kernelspec": {
      "display_name": "Python 3 (ipykernel)",
      "language": "python",
      "name": "python3"
    },
    "language_info": {
      "codemirror_mode": {
        "name": "ipython",
        "version": 3
      },
      "file_extension": ".py",
      "mimetype": "text/x-python",
      "name": "python",
      "nbconvert_exporter": "python",
      "pygments_lexer": "ipython3",
      "version": "3.11.7"
    },
    "colab": {
      "provenance": [],
      "include_colab_link": true
    }
  },
  "nbformat": 4,
  "nbformat_minor": 0
}